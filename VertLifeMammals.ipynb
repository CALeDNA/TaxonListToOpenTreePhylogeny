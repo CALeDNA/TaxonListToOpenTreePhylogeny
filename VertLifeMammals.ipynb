{
 "cells": [
  {
   "cell_type": "code",
   "execution_count": 1,
   "metadata": {},
   "outputs": [],
   "source": [
    "from opentree import OT"
   ]
  },
  {
   "cell_type": "code",
   "execution_count": null,
   "metadata": {},
   "outputs": [],
   "source": [
    "## Labels from tree at https://github.com/n8upham/MamPhy_v1/blob/master/_DATA|/MamPhy_fullPosterior_BDvr_DNAonly_4098sp_topoFree_NDexp_MCC_v2_target.tre"
   ]
  },
  {
   "cell_type": "code",
   "execution_count": 2,
   "metadata": {},
   "outputs": [],
   "source": [
    "mammal_spps =  open(\"mammal_tre_names.txt\").readlines()"
   ]
  },
  {
   "cell_type": "code",
   "execution_count": 4,
   "metadata": {},
   "outputs": [],
   "source": [
    "#spp_names_ids = dict()\n",
    "for label in mammal_spps:\n",
    "    spp = \" \".join(label.strip().split(\"_\")[:2])\n",
    "    if spp not in spp_names_ids:\n",
    "        match = OT.tnrs_match([spp], do_approximate_matching=False)\n",
    "        spp_names_ids[spp] = match.response_dict"
   ]
  },
  {
   "cell_type": "code",
   "execution_count": 5,
   "metadata": {},
   "outputs": [
    {
     "data": {
      "text/plain": [
       "4100"
      ]
     },
     "execution_count": 5,
     "metadata": {},
     "output_type": "execute_result"
    }
   ],
   "source": [
    "len(spp_names_ids)"
   ]
  },
  {
   "cell_type": "code",
   "execution_count": 6,
   "metadata": {},
   "outputs": [],
   "source": [
    "## Example TNRS result"
   ]
  },
  {
   "cell_type": "code",
   "execution_count": 8,
   "metadata": {},
   "outputs": [
    {
     "data": {
      "text/plain": [
       "{'context': 'Mammals',\n",
       " 'governing_code': 'ICZN',\n",
       " 'includes_approximate_matches': False,\n",
       " 'includes_deprecated_taxa': False,\n",
       " 'includes_suppressed_names': False,\n",
       " 'matched_names': ['Elephantulus brachyrhynchus'],\n",
       " 'results': [{'matches': [{'is_approximate_match': False,\n",
       "     'is_synonym': False,\n",
       "     'matched_name': 'Elephantulus brachyrhynchus',\n",
       "     'nomenclature_code': 'ICZN',\n",
       "     'score': 1.0,\n",
       "     'search_string': 'elephantulus brachyrhynchus',\n",
       "     'taxon': {'flags': [],\n",
       "      'is_suppressed': False,\n",
       "      'is_suppressed_from_synth': False,\n",
       "      'name': 'Elephantulus brachyrhynchus',\n",
       "      'ott_id': 741348,\n",
       "      'rank': 'species',\n",
       "      'source': 'ott3.2draft9',\n",
       "      'synonyms': ['Macroscelides brachyrhynchus',\n",
       "       'Macroscelides brachyrhynchus malosae'],\n",
       "      'tax_sources': ['ncbi:113275', 'gbif:2440856', 'irmng:10220902'],\n",
       "      'unique_name': 'Elephantulus brachyrhynchus'}}],\n",
       "   'name': 'Elephantulus brachyrhynchus'}],\n",
       " 'taxonomy': {'author': 'open tree of life project',\n",
       "  'name': 'ott',\n",
       "  'source': 'ott3.2draft9',\n",
       "  'version': '3.2',\n",
       "  'weburl': 'https://tree.opentreeoflife.org/about/taxonomy-version/ott3.2'},\n",
       " 'unambiguous_names': ['Elephantulus brachyrhynchus'],\n",
       " 'unmatched_names': []}"
      ]
     },
     "execution_count": 8,
     "metadata": {},
     "output_type": "execute_result"
    }
   ],
   "source": [
    "spp_names_ids['Elephantulus brachyrhynchus']"
   ]
  },
  {
   "cell_type": "code",
   "execution_count": 25,
   "metadata": {},
   "outputs": [],
   "source": [
    "no_match = set()\n",
    "fi = open(\"Mammal_TNRS.tsv\", \"w\")\n",
    "fi.write(\"SppName\\tLabel\\tOttId\\tGbifId\\tncbiId\\tSynonyms\\n\")\n",
    "for label in mammal_spps[1:]:\n",
    "    ott_id = gbif_id = ncbi_id = synonyms = \"-\"\n",
    "    spp = \" \".join(label.strip().split(\"_\")[:2])\n",
    "    matches = spp_names_ids[spp]['results'][0]['matches']\n",
    "    if matches:\n",
    "        match = matches[0]['taxon']\n",
    "        ott_id = match['ott_id']\n",
    "        gbif_id = \"\"\n",
    "        ncbi_id = \"\"\n",
    "        for source in match['tax_sources']:\n",
    "            if source.startswith(\"gbif\"):\n",
    "                gbif_id = gbif_id + source\n",
    "            if source.startswith(\"ncbi\"):\n",
    "                ncbi_id = ncbi_id + source\n",
    "        synonyms = \",\".join(match['synonyms'])\n",
    "    else:\n",
    "        no_match.add(spp)\n",
    "    fi.write(\"{}\\t{}\\t{}\\t{}\\t{}\\t{}\\n\".format(spp, label.strip(), ott_id, gbif_id, ncbi_id, synonyms))\n",
    "fi.close()\n",
    "    \n",
    "    "
   ]
  },
  {
   "cell_type": "code",
   "execution_count": 26,
   "metadata": {},
   "outputs": [
    {
     "data": {
      "text/plain": [
       "{'Blanfordimys juldaschi',\n",
       " 'Crocidura abscondita',\n",
       " 'Dactylonax palpator',\n",
       " 'Dermanura aztecus',\n",
       " 'Dermanura cinereus',\n",
       " 'Dermanura glaucus',\n",
       " 'Dermanura gnomus',\n",
       " 'Dermanura incomitatus',\n",
       " 'Dermanura rosenbergii',\n",
       " 'Dermanura toltecus',\n",
       " 'Eptesicus pachyomus',\n",
       " 'Gerbilliscus gambiana',\n",
       " 'Herpestes flavescens',\n",
       " 'Hipposideros pendelburyi',\n",
       " 'Homo denisova',\n",
       " 'Monodelphis umbristriatus',\n",
       " 'Murina loreliae',\n",
       " 'Nesotragus moschatus',\n",
       " 'Nilgiritragus hylocrius',\n",
       " 'Ningaui yvonneae',\n",
       " 'Nyctinomops kalinowskii',\n",
       " 'Otaria bryonia',\n",
       " 'Petaurista grandis',\n",
       " 'Petaurista lena',\n",
       " 'Petaurista marica',\n",
       " 'Phataginus tetradactyla',\n",
       " 'Pipistrellus alaschanicus',\n",
       " 'Platyrrhinus angustirostris',\n",
       " 'Platyrrhinus fusciventris',\n",
       " 'Salanoia durrelli',\n",
       " 'Smutsia gigantea',\n",
       " 'Soricomys leonardcoi',\n",
       " 'Tamiops macclellandii'}"
      ]
     },
     "execution_count": 26,
     "metadata": {},
     "output_type": "execute_result"
    }
   ],
   "source": [
    "no_match"
   ]
  },
  {
   "cell_type": "code",
   "execution_count": 35,
   "metadata": {},
   "outputs": [],
   "source": [
    "fi = open(\"unmatched_mammal_names.txt\",\"w\")\n",
    "for name in no_match:\n",
    "    fi.write(name+\"\\n\")\n",
    "fi.close()"
   ]
  },
  {
   "cell_type": "code",
   "execution_count": null,
   "metadata": {},
   "outputs": [],
   "source": [
    "## To interactively match these names, upload at https://tree.opentreeoflife.org/curator/tnrs/"
   ]
  }
 ],
 "metadata": {
  "kernelspec": {
   "display_name": "opentree",
   "language": "python",
   "name": "opentree"
  },
  "language_info": {
   "codemirror_mode": {
    "name": "ipython",
    "version": 3
   },
   "file_extension": ".py",
   "mimetype": "text/x-python",
   "name": "python",
   "nbconvert_exporter": "python",
   "pygments_lexer": "ipython3",
   "version": "3.7.3"
  }
 },
 "nbformat": 4,
 "nbformat_minor": 2
}
