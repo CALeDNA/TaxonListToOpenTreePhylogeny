{
 "cells": [
  {
   "cell_type": "code",
   "execution_count": 1,
   "metadata": {},
   "outputs": [],
   "source": [
    "from opentree import OT"
   ]
  },
  {
   "cell_type": "code",
   "execution_count": 2,
   "metadata": {},
   "outputs": [],
   "source": [
    "mammal_spps =  open(\"mammal_tre_names.txt\").readlines()"
   ]
  },
  {
   "cell_type": "code",
   "execution_count": 35,
   "metadata": {},
   "outputs": [],
   "source": [
    "#spp_names_ids = dict()\n",
    "for label in mammal_spps:\n",
    "    spp = \" \".join(label.strip().split(\"_\")[:2])\n",
    "    if spp not in spp_names_ids:\n",
    "        match = OT.tnrs_match([spp], do_approximate_matching=False)\n",
    "        spp_names_ids[spp] = match.response_dict"
   ]
  },
  {
   "cell_type": "code",
   "execution_count": 36,
   "metadata": {},
   "outputs": [
    {
     "data": {
      "text/plain": [
       "4100"
      ]
     },
     "execution_count": 36,
     "metadata": {},
     "output_type": "execute_result"
    }
   ],
   "source": [
    "len(spp_names_ids)"
   ]
  },
  {
   "cell_type": "code",
   "execution_count": 12,
   "metadata": {},
   "outputs": [
    {
     "data": {
      "text/plain": [
       "{'context': 'Mammals',\n",
       " 'governing_code': 'ICZN',\n",
       " 'includes_approximate_matches': False,\n",
       " 'includes_deprecated_taxa': False,\n",
       " 'includes_suppressed_names': False,\n",
       " 'matched_names': ['Elephantulus brachyrhynchus'],\n",
       " 'results': [{'matches': [{'is_approximate_match': False,\n",
       "     'is_synonym': False,\n",
       "     'matched_name': 'Elephantulus brachyrhynchus',\n",
       "     'nomenclature_code': 'ICZN',\n",
       "     'score': 1.0,\n",
       "     'search_string': 'elephantulus brachyrhynchus',\n",
       "     'taxon': {'flags': [],\n",
       "      'is_suppressed': False,\n",
       "      'is_suppressed_from_synth': False,\n",
       "      'name': 'Elephantulus brachyrhynchus',\n",
       "      'ott_id': 741348,\n",
       "      'rank': 'species',\n",
       "      'source': 'ott3.2draft9',\n",
       "      'synonyms': ['Macroscelides brachyrhynchus',\n",
       "       'Macroscelides brachyrhynchus malosae'],\n",
       "      'tax_sources': ['ncbi:113275', 'gbif:2440856', 'irmng:10220902'],\n",
       "      'unique_name': 'Elephantulus brachyrhynchus'}}],\n",
       "   'name': 'Elephantulus brachyrhynchus'}],\n",
       " 'taxonomy': {'author': 'open tree of life project',\n",
       "  'name': 'ott',\n",
       "  'source': 'ott3.2draft9',\n",
       "  'version': '3.2',\n",
       "  'weburl': 'https://tree.opentreeoflife.org/about/taxonomy-version/ott3.2'},\n",
       " 'unambiguous_names': ['Elephantulus brachyrhynchus'],\n",
       " 'unmatched_names': []}"
      ]
     },
     "execution_count": 12,
     "metadata": {},
     "output_type": "execute_result"
    }
   ],
   "source": [
    "spp_names_ids['Elephantulus brachyrhynchus'].response_dict"
   ]
  },
  {
   "cell_type": "code",
   "execution_count": 51,
   "metadata": {},
   "outputs": [],
   "source": [
    "fi = open(\"Mammal_TNRS.tsv\", \"w\")\n",
    "fi.write(\"SppName\\tLabel\\tOttId\\tGbifId\\tncbiId\\tSynonyms\\n\")\n",
    "for label in mammal_spps[1:]:\n",
    "    ott_id = gbif_id = synonyms = \"-\"\n",
    "    spp = \" \".join(label.strip().split(\"_\")[:2])\n",
    "    matches = spp_names_ids[spp]['results'][0]['matches']\n",
    "    if matches:\n",
    "        match = matches[0]['taxon']\n",
    "        ott_id = match['ott_id']\n",
    "        gbif_id = \"\"\n",
    "        ncbi_id = \"\"\n",
    "        for source in match['tax_sources']:\n",
    "            if source.startswith(\"gbif\"):\n",
    "                gbif_id = gbif_id + source\n",
    "            if source.startswith(\"ncbi\"):\n",
    "                ncbi_id = ncbi_id + source\n",
    "        synonyms = \",\".join(match['synonyms'])\n",
    "    fi.write(\"{}\\t{}\\t{}\\t{}\\t{}\\t{}\\n\".format(spp, label.strip(), ott_id, gbif_id, ncbi_id, synonyms))\n",
    "fi.close()\n",
    "    \n",
    "    "
   ]
  },
  {
   "cell_type": "code",
   "execution_count": 48,
   "metadata": {},
   "outputs": [
    {
     "data": {
      "text/plain": [
       "432839"
      ]
     },
     "execution_count": 48,
     "metadata": {},
     "output_type": "execute_result"
    }
   ],
   "source": [
    "ott_id"
   ]
  },
  {
   "cell_type": "code",
   "execution_count": null,
   "metadata": {},
   "outputs": [],
   "source": []
  }
 ],
 "metadata": {
  "kernelspec": {
   "display_name": "opentree",
   "language": "python",
   "name": "opentree"
  },
  "language_info": {
   "codemirror_mode": {
    "name": "ipython",
    "version": 3
   },
   "file_extension": ".py",
   "mimetype": "text/x-python",
   "name": "python",
   "nbconvert_exporter": "python",
   "pygments_lexer": "ipython3",
   "version": "3.7.3"
  }
 },
 "nbformat": 4,
 "nbformat_minor": 2
}
