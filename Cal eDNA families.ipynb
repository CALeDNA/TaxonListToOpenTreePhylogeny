{
 "cells": [
  {
   "cell_type": "code",
   "execution_count": 1,
   "metadata": {},
   "outputs": [],
   "source": [
    "from opentree import OT"
   ]
  },
  {
   "cell_type": "code",
   "execution_count": 2,
   "metadata": {},
   "outputs": [],
   "source": [
    "fam_fi=open(\"Family_tree_GF.txt\").readlines()"
   ]
  },
  {
   "cell_type": "code",
   "execution_count": 3,
   "metadata": {},
   "outputs": [],
   "source": [
    "fam_spps = set()\n",
    "for lin in fam_fi:\n",
    "    lii = lin.strip()\n",
    "    fam_spps.add(lii)"
   ]
  },
  {
   "cell_type": "code",
   "execution_count": 4,
   "metadata": {},
   "outputs": [
    {
     "data": {
      "text/plain": [
       "916"
      ]
     },
     "execution_count": 4,
     "metadata": {},
     "output_type": "execute_result"
    }
   ],
   "source": [
    "len(fam_spps)"
   ]
  },
  {
   "cell_type": "code",
   "execution_count": 5,
   "metadata": {},
   "outputs": [],
   "source": [
    "fam_dict = dict()\n",
    "for fam_name in fam_spps:\n",
    "    if fam_name not in fam_dict:\n",
    "        print('.')\n",
    "        ott_id = OT.get_ottid_from_name(fam_name)\n",
    "        fam_dict[fam_name] = ott_id "
   ]
  },
  {
   "cell_type": "code",
   "execution_count": 134,
   "metadata": {},
   "outputs": [
    {
     "name": "stdout",
     "output_type": "stream",
     "text": [
      "No ott_id for Clostridiales Family XVII. Incertae Sedis\n",
      "No ott_id for Rep1\n",
      "No ott_id for Clostridiales Family XII. Incertae Sedis\n",
      "No ott_id for Clostridiales Family XIII. Incertae Sedis\n"
     ]
    }
   ],
   "source": [
    "fam_ott_ids = set()\n",
    "no_match = set()\n",
    "for fam_name in fam_dict:\n",
    "    ott_id = fam_dict[fam_name]\n",
    "    if ott_id:\n",
    "        fam_ott_ids.add(ott_id)\n",
    "    else:\n",
    "        print(\"No ott_id for {}\".format(fam_name))"
   ]
  },
  {
   "cell_type": "code",
   "execution_count": 12,
   "metadata": {},
   "outputs": [
    {
     "data": {
      "text/plain": [
       "916"
      ]
     },
     "execution_count": 12,
     "metadata": {},
     "output_type": "execute_result"
    }
   ],
   "source": [
    "len(fam_dict)"
   ]
  },
  {
   "cell_type": "code",
   "execution_count": 13,
   "metadata": {},
   "outputs": [
    {
     "data": {
      "text/plain": [
       "910"
      ]
     },
     "execution_count": 13,
     "metadata": {},
     "output_type": "execute_result"
    }
   ],
   "source": [
    "len(fam_ott_ids)"
   ]
  },
  {
   "cell_type": "code",
   "execution_count": 16,
   "metadata": {},
   "outputs": [],
   "source": [
    "try:\n",
    "    fam_ott_ids.remove(None)\n",
    "except:\n",
    "    pass"
   ]
  },
  {
   "cell_type": "code",
   "execution_count": 174,
   "metadata": {},
   "outputs": [],
   "source": [
    "output = OT.synth_induced_tree(ott_ids=list(fam_ott_ids),  label_format='name_and_id')"
   ]
  },
  {
   "cell_type": "code",
   "execution_count": 175,
   "metadata": {},
   "outputs": [],
   "source": [
    "import copy\n",
    "local_tree = copy.deepcopy(output.tree)"
   ]
  },
  {
   "cell_type": "code",
   "execution_count": 122,
   "metadata": {},
   "outputs": [],
   "source": [
    "def remove_problem_characters(tree, prob_char = \"():#\", replace_w = '?'):\n",
    "    problem_characters = set(prob_char)\n",
    "    for node in tree:\n",
    "        if node.taxon:\n",
    "            for char in problem_characters:\n",
    "                node.taxon.label = node.taxon.label.replace(char,replace_w)\n",
    "        elif node.label:\n",
    "            for char in problem_characters:\n",
    "                node.label = node.label.replace(char,replace_w)\n",
    "    return None"
   ]
  },
  {
   "cell_type": "code",
   "execution_count": 159,
   "metadata": {},
   "outputs": [],
   "source": [
    "def quote_problem_characters(tree, prob_char = \"():#\", replace_w = '?'):\n",
    "    problem_characters = set(prob_char)\n",
    "    for node in tree:\n",
    "        if node.taxon:\n",
    "            for char in problem_characters:\n",
    "                node.taxon.label = '{}{}{}'.format(\"'\",node.taxon.label, \"'\")\n",
    "        elif node.label:\n",
    "            for char in problem_characters:\n",
    "                node.label = '{}{}{}'.format(\"*\",node.label, \"*\")\n",
    "    return None"
   ]
  },
  {
   "cell_type": "code",
   "execution_count": 176,
   "metadata": {},
   "outputs": [],
   "source": [
    "quote_problem_characters(local_tree)\n",
    "treefile = \"FAM_cal_eDNA_quot.tre\"\n",
    "local_tree.write(path = treefile, schema = \"newick\")"
   ]
  },
  {
   "cell_type": "code",
   "execution_count": 104,
   "metadata": {},
   "outputs": [
    {
     "data": {
      "text/plain": [
       "False"
      ]
     },
     "execution_count": 104,
     "metadata": {},
     "output_type": "execute_result"
    }
   ],
   "source": [
    "treestr = output.tree.as_string(schema = \"newick\")\n",
    "\":\" in treestr"
   ]
  },
  {
   "cell_type": "code",
   "execution_count": 177,
   "metadata": {},
   "outputs": [],
   "source": [
    "remove_problem_characters(output.tree)"
   ]
  },
  {
   "cell_type": "code",
   "execution_count": 178,
   "metadata": {},
   "outputs": [],
   "source": [
    "rev_broken =  {v: k for k, v in broken.items()}\n",
    "rev_fam =  {v: k for k, v in fam_dict.items()}\n",
    "for node in output.tree:\n",
    "    if node.taxon:\n",
    "        if node.taxon.label in rev_broken:\n",
    "            fam = rev_fam[int(rev_broken[node.taxon.label].strip('ott'))]\n",
    "            node.taxon.label = \"{} broken - MRCA {}\".format(fam, node.taxon.label)\n",
    "    elif node.label:\n",
    "         if node.label in rev_broken:\n",
    "            fam = rev_fam[int(rev_broken[node.label].strip('ott'))]\n",
    "            node.label = \"{} broken - MRCA {}\".format(fam, node.label)"
   ]
  },
  {
   "cell_type": "code",
   "execution_count": 179,
   "metadata": {},
   "outputs": [],
   "source": [
    "treefile = \"FAM_cal_eDNA_mrca.tre\"\n",
    "output.tree.write(path = treefile, schema = \"newick\")"
   ]
  },
  {
   "cell_type": "code",
   "execution_count": 130,
   "metadata": {},
   "outputs": [],
   "source": [
    "synth_leaf_ott_ids = set()\n",
    "synth_node_ids = set()\n",
    "#for taxon in output.tree.taxon_namespace:\n",
    "for node in output.tree:\n",
    "    if node.taxon:\n",
    "        synth_leaf_ott_ids.add(node.taxon.label.split()[-1])\n",
    "    if node.label:\n",
    "        synth_node_ids.add(node.label.split()[-1])\n"
   ]
  },
  {
   "cell_type": "code",
   "execution_count": 136,
   "metadata": {},
   "outputs": [],
   "source": [
    "broken = output.response_dict['broken']"
   ]
  },
  {
   "cell_type": "code",
   "execution_count": 133,
   "metadata": {},
   "outputs": [],
   "source": [
    "outfi = open('fam_info_synth.csv','w')\n",
    "outfi.write(\"fam_name, ott_id, broken_taxon, mrca_of_descendents, in_synth_tree\\n\")\n",
    "for fam_name in fam_dict:\n",
    "    ott_id = fam_dict[fam_name]\n",
    "    brok = \"-\"\n",
    "    mrca = \"-\"\n",
    "    in_synth_tree = 'False'\n",
    "    if ott_id != 'None':\n",
    "        ott_str = \"ott{}\".format(ott_id)\n",
    "        if ott_str in broken:\n",
    "            brok = \"T\"\n",
    "            mrca = broken[ott_str].strip()\n",
    "            if mrca in synth_leaf_ott_ids:\n",
    "                in_synth_tree = 'Leaf'\n",
    "            elif mrca in synth_node_ids:\n",
    "                in_synth_tree = 'Node'\n",
    "        if ott_str in synth_leaf_ott_ids:\n",
    "            in_synth_tree = 'Leaf'\n",
    "        elif ott_str in synth_node_ids:\n",
    "            in_synth_tree = 'Node'\n",
    "            \n",
    "    outfi.write(\"{},{},{},{},{}\\n\".format(fam_name, ott_id, brok, mrca, in_synth_tree))\n",
    "outfi.close()"
   ]
  },
  {
   "cell_type": "code",
   "execution_count": 180,
   "metadata": {},
   "outputs": [],
   "source": [
    "missing_fams = set()\n",
    "for fam_name in fam_dict:\n",
    "    ott_id = fam_dict[fam_name]\n",
    "    brok = \"-\"\n",
    "    mrca = \"-\"\n",
    "    in_synth_tree = 'False'\n",
    "    if ott_id != 'None':\n",
    "        ott_str = \"ott{}\".format(ott_id)\n",
    "        if ott_str in broken:\n",
    "            brok = \"T\"\n",
    "            mrca = broken[ott_str].strip()\n",
    "            if mrca in synth_leaf_ott_ids:\n",
    "                in_synth_tree = 'Leaf'\n",
    "            elif mrca in synth_node_ids:\n",
    "                in_synth_tree = 'Node'\n",
    "        if ott_str in synth_leaf_ott_ids:\n",
    "            in_synth_tree = 'Leaf'\n",
    "        elif ott_str in synth_node_ids:\n",
    "            in_synth_tree = 'Node'\n",
    "    if in_synth_tree == 'False':\n",
    "        missing_fams.add(fam_name)"
   ]
  },
  {
   "cell_type": "code",
   "execution_count": 392,
   "metadata": {},
   "outputs": [],
   "source": [
    "fi = open(\"all_asv_transects_for_EJMT.txt\")\n",
    "spp_reps = {}\n",
    "for fam in missing_fams:\n",
    "    spp_reps[fam] = set()\n",
    "for lin in fi:\n",
    "    lii = lin.split(';')\n",
    "    while(\"\" in lii) : \n",
    "        lii.remove(\"\") \n",
    "    for htax in lii:\n",
    "        if htax in missing_fams:\n",
    "            spp_reps[htax].add(lii[-1].strip())"
   ]
  },
  {
   "cell_type": "code",
   "execution_count": 393,
   "metadata": {},
   "outputs": [
    {
     "data": {
      "text/plain": [
       "{'',\n",
       " 'Lyngbya aestuarii',\n",
       " 'Lyngbya polychroa',\n",
       " 'Oscillatoria acuminata',\n",
       " 'Oscillatoria tenuis',\n",
       " 'Phormidium autumnale',\n",
       " 'Phormidium chlorinum',\n",
       " 'Phormidium laetevirens',\n",
       " 'Phormidium sp. B-Tom',\n",
       " 'Phormidium sp. PUPCCC 118.2'}"
      ]
     },
     "execution_count": 393,
     "metadata": {},
     "output_type": "execute_result"
    }
   ],
   "source": [
    "spp_reps['Oscillatoriaceae']"
   ]
  },
  {
   "cell_type": "code",
   "execution_count": 394,
   "metadata": {},
   "outputs": [],
   "source": [
    "#spp_ids = {}\n",
    "for fam in spp_reps:\n",
    "    for spp_name in spp_reps[fam]:\n",
    "        if spp_name not in spp_ids:\n",
    "            ott_id = OT.get_ottid_from_name(spp_name)\n",
    "            spp_ids[spp_name] = ott_id"
   ]
  },
  {
   "cell_type": "code",
   "execution_count": 395,
   "metadata": {},
   "outputs": [
    {
     "name": "stdout",
     "output_type": "stream",
     "text": [
      "Hemiaulaceae\n",
      "Rep1\n",
      "Malasseziaceae\n",
      "Call to tree_of_life/mrca failed as all ids were pruned\n",
      "Phaeocystaceae\n",
      "Labilitrichaceae\n",
      "Call to tree_of_life/mrca failed as all ids were pruned\n",
      "Marinifilaceae\n",
      "Call to tree_of_life/mrca failed as all ids were pruned\n",
      "Pseudanabaenaceae\n",
      "Call to tree_of_life/mrca failed as all ids were pruned\n",
      "Phyllophoraceae\n",
      "Call to tree_of_life/mrca failed as all ids were pruned\n",
      "Microbulbiferaceae\n",
      "Minutisphaeraceae\n",
      "Call to tree_of_life/mrca failed as all ids were pruned\n",
      "Nitrosopumilaceae\n",
      "Call to tree_of_life/mrca failed as all ids were pruned\n",
      "Ancyromonadidae\n",
      "Call to tree_of_life/mrca failed as all ids were pruned\n",
      "Clostridiales Family XIII. Incertae Sedis\n",
      "Call to tree_of_life/mrca failed as all ids were pruned\n",
      "Pseudeurotiaceae\n",
      "Call to tree_of_life/mrca failed as all ids were pruned\n",
      "Coleofasciculaceae\n",
      "Call to tree_of_life/mrca failed as all ids were pruned\n",
      "Tetrahymenidae\n",
      "Pseudoperisporiaceae\n",
      "Call to tree_of_life/mrca failed as all ids were pruned\n",
      "Sanchytriaceae\n",
      "Call to tree_of_life/mrca failed as all ids were pruned\n",
      "Balneolaceae\n",
      "Call to tree_of_life/mrca failed as all ids were pruned\n",
      "Myxotrichaceae\n",
      "Call to tree_of_life/mrca failed as all ids were pruned\n",
      "Tontoniidae\n",
      "Call to tree_of_life/mrca failed as all ids were pruned\n",
      "Septobasidiaceae\n",
      "Call to tree_of_life/mrca failed as all ids were pruned\n",
      "Rivulariaceae\n",
      "Call to tree_of_life/mrca failed as all ids were pruned\n",
      "Microcystaceae\n",
      "Call to tree_of_life/mrca failed as all ids were pruned\n"
     ]
    }
   ],
   "source": [
    "fam_mrca = {}\n",
    "for fam in spp_reps:\n",
    "    ott_ids = set([spp_ids[spp] for spp in spp_reps[fam]])\n",
    "    if None in ott_ids:\n",
    "        ott_ids.remove(None)\n",
    "    if len(ott_ids) < 1:\n",
    "        print(fam)\n",
    "        fam_mrca[fam] = None\n",
    "    else:\n",
    "        ret = 0\n",
    "        while ret == 0:\n",
    "            assert(ott_ids)\n",
    "            call_record = OT.ws.tree_of_life_mrca(ott_ids=list(ott_ids))\n",
    "            if 'unknown' in call_record.response_dict:\n",
    "                for key in call_record.response_dict['unknown']:\n",
    "                    ott_ids.remove(int(key.strip('ott')))\n",
    "            elif 'mrca' in call_record.response_dict:\n",
    "                ret = 1\n",
    "                fam_mrca[fam] = call_record.response_dict['mrca']['node_id']              \n",
    "            if len(ott_ids) < 1:\n",
    "                print(fam)\n",
    "                msgtemplate = 'Call to tree_of_life/mrca failed as all ids were pruned'\n",
    "                print(msgtemplate)\n",
    "                fam_mrca[fam] = None\n",
    "                ret = 1\n",
    "    "
   ]
  },
  {
   "cell_type": "code",
   "execution_count": 396,
   "metadata": {},
   "outputs": [],
   "source": [
    "fam_mrca_ids = [fam_mrca[fam] for fam in fam_mrca]"
   ]
  },
  {
   "cell_type": "code",
   "execution_count": 457,
   "metadata": {},
   "outputs": [],
   "source": [
    "fam_ott_ids = ['ott{}'.format(idn) for idn in fam_ott_ids]"
   ]
  },
  {
   "cell_type": "code",
   "execution_count": 458,
   "metadata": {},
   "outputs": [],
   "source": [
    "ids_plus = fam_mrca_ids + fam_ott_ids\n",
    "ids_plus = set(ids_plus)\n",
    "ids_plus.remove(None)"
   ]
  },
  {
   "cell_type": "code",
   "execution_count": 459,
   "metadata": {},
   "outputs": [],
   "source": [
    "outputplus = OT.synth_induced_tree(node_ids = list(ids_plus), label_format='name_and_id')"
   ]
  },
  {
   "cell_type": "code",
   "execution_count": 460,
   "metadata": {},
   "outputs": [
    {
     "data": {
      "text/plain": [
       "{'broken': {'ott1021896': 'mrcaott23276ott23291',\n",
       "  'ott1023962': 'mrcaott14541ott124912',\n",
       "  'ott1024716': 'mrcaott6117ott105428',\n",
       "  'ott1025541': 'mrcaott2556ott3381',\n",
       "  'ott1025751': 'mrcaott42379ott140961',\n",
       "  'ott1033801': 'mrcaott8800ott405457',\n",
       "  'ott1038708': 'ott971709',\n",
       "  'ott104185': 'ott971709',\n",
       "  'ott1047456': 'ott51652',\n",
       "  'ott1050974': 'mrcaott1403ott8433',\n",
       "  'ott1051950': 'ott971709',\n",
       "  'ott1085835': 'mrcaott23276ott60764',\n",
       "  'ott1099024': 'ott971709',\n",
       "  'ott112540': 'mrcaott5864ott7040',\n",
       "  'ott121698': 'ott51652',\n",
       "  'ott122715': 'mrcaott50ott184',\n",
       "  'ott126141': 'mrcaott10354ott17309',\n",
       "  'ott133074': 'ott183800',\n",
       "  'ott134473': 'mrcaott1093ott2355',\n",
       "  'ott137782': 'mrcaott103ott1562',\n",
       "  'ott139533': 'mrcaott1492ott5822',\n",
       "  'ott146473': 'ott822495',\n",
       "  'ott147029': 'ott5261925',\n",
       "  'ott15312': 'mrcaott15308ott15310',\n",
       "  'ott158309': 'mrcaott89ott26838',\n",
       "  'ott160603': 'ott767314',\n",
       "  'ott161886': 'ott588758',\n",
       "  'ott162651': 'ott1012685',\n",
       "  'ott16694': 'mrcaott725ott1456',\n",
       "  'ott16701': 'mrcaott2035ott5991',\n",
       "  'ott16707': 'mrcaott216ott19969',\n",
       "  'ott167665': 'ott887960',\n",
       "  'ott168443': 'ott971709',\n",
       "  'ott174866': 'mrcaott16797ott25808',\n",
       "  'ott175436': 'ott5541314',\n",
       "  'ott176428': 'mrcaott93910ott101878',\n",
       "  'ott188805': 'mrcaott13947ott542218',\n",
       "  'ott190168': 'mrcaott90ott41935',\n",
       "  'ott191367': 'mrcaott1562ott6385',\n",
       "  'ott191371': 'mrcaott103ott1093',\n",
       "  'ott193070': 'mrcaott103ott33958',\n",
       "  'ott193073': 'mrcaott1562ott12573',\n",
       "  'ott195711': 'mrcaott1769ott87462',\n",
       "  'ott198197': 'mrcaott2556ott6150',\n",
       "  'ott19981': 'mrcaott89ott721',\n",
       "  'ott22936': 'ott800595',\n",
       "  'ott231769': 'mrcaott292ott7821',\n",
       "  'ott234186': 'mrcaott235ott6545',\n",
       "  'ott234863': 'ott17233',\n",
       "  'ott234956': 'mrcaott206ott11226',\n",
       "  'ott246447': 'mrcaott50ott1100',\n",
       "  'ott247673': 'mrcaott15830ott15841',\n",
       "  'ott25': 'ott427259',\n",
       "  'ott260033': 'mrcaott42379ott113093',\n",
       "  'ott282217': 'mrcaott109ott206',\n",
       "  'ott284450': 'ott793486',\n",
       "  'ott287927': 'mrcaott4961ott4964',\n",
       "  'ott309993': 'mrcaott109ott19801',\n",
       "  'ott313414': 'ott759290',\n",
       "  'ott3188': 'mrcaott4380ott4381',\n",
       "  'ott319466': 'mrcaott43479ott155498',\n",
       "  'ott324575': 'mrcaott89ott90',\n",
       "  'ott33903': 'ott641496',\n",
       "  'ott340559': 'mrcaott2288ott2290',\n",
       "  'ott371255': 'ott1012685',\n",
       "  'ott377012': 'mrcaott109ott9895',\n",
       "  'ott377926': 'mrcaott89ott5304',\n",
       "  'ott404713': 'mrcaott109ott9895',\n",
       "  'ott4095240': 'ott634628',\n",
       "  'ott4105661': 'mrcaott109ott206',\n",
       "  'ott41196': 'ott1064655',\n",
       "  'ott41369': 'mrcaott13148ott24308',\n",
       "  'ott419068': 'ott971709',\n",
       "  'ott419069': 'ott971709',\n",
       "  'ott419294': 'ott1084481',\n",
       "  'ott424023': 'ott844192',\n",
       "  'ott438740': 'mrcaott2427ott78376',\n",
       "  'ott441644': 'mrcaott39418ott84763',\n",
       "  'ott441950': 'mrcaott103ott1562',\n",
       "  'ott445856': 'mrcaott4345ott8579',\n",
       "  'ott461532': 'mrcaott6062ott17168',\n",
       "  'ott46389': 'mrcaott89ott2460',\n",
       "  'ott464881': 'mrcaott109ott33764',\n",
       "  'ott469426': 'mrcaott67172ott235997',\n",
       "  'ott474062': 'mrcaott1544ott9282',\n",
       "  'ott48323': 'mrcaott48338ott86960',\n",
       "  'ott4924792': 'mrcaott32008ott32010',\n",
       "  'ott494050': 'mrcaott4495ott4998',\n",
       "  'ott508531': 'mrcaott33580ott33585',\n",
       "  'ott5248084': 'mrcaott4061ott167751',\n",
       "  'ott5344590': 'ott1012685',\n",
       "  'ott5345481': 'ott971709',\n",
       "  'ott537242': 'mrcaott109ott9895',\n",
       "  'ott538149': 'ott51652',\n",
       "  'ott550724': 'ott565288',\n",
       "  'ott555349': 'mrcaott1320ott37385',\n",
       "  'ott556107': 'mrcaott2378ott3345',\n",
       "  'ott569043': 'ott1012685',\n",
       "  'ott581434': 'ott18194',\n",
       "  'ott581435': 'mrcaott1724ott13442',\n",
       "  'ott589411': 'mrcaott184ott2035',\n",
       "  'ott589414': 'mrcaott184ott216',\n",
       "  'ott589416': 'mrcaott3174ott3911',\n",
       "  'ott590456': 'mrcaott2341ott3252',\n",
       "  'ott5920024': 'mrcaott5200ott16365',\n",
       "  'ott595719': 'mrcaott14806ott30573',\n",
       "  'ott595805': 'ott588758',\n",
       "  'ott5998854': 'mrcaott103ott9270',\n",
       "  'ott5998990': 'mrcaott103ott10716',\n",
       "  'ott60043': 'ott1012685',\n",
       "  'ott600685': 'mrcaott1100ott56697',\n",
       "  'ott611412': 'ott1012685',\n",
       "  'ott619449': 'mrcaott15308ott110785',\n",
       "  'ott623136': 'mrcaott140429ott226723',\n",
       "  'ott634872': 'mrcaott61627ott113246',\n",
       "  'ott644816': 'mrcaott92633ott834287',\n",
       "  'ott651335': 'mrcaott185ott1426',\n",
       "  'ott663620': 'mrcaott6741ott6742',\n",
       "  'ott684071': 'mrcaott82940ott140762',\n",
       "  'ott68422': 'mrcaott975ott4059',\n",
       "  'ott700213': 'mrcaott73ott292',\n",
       "  'ott726987': 'mrcaott55524ott112770',\n",
       "  'ott726990': 'mrcaott11138ott11151',\n",
       "  'ott728370': 'ott971709',\n",
       "  'ott738878': 'mrcaott8837ott93865',\n",
       "  'ott748885': 'mrcaott184ott216',\n",
       "  'ott761268': 'mrcaott184ott63791',\n",
       "  'ott767325': 'mrcaott89ott90',\n",
       "  'ott770311': 'ott842867',\n",
       "  'ott79118': 'mrcaott3217ott11158',\n",
       "  'ott809218': 'mrcaott9098ott13162',\n",
       "  'ott810820': 'ott800600',\n",
       "  'ott810826': 'mrcaott143ott13668',\n",
       "  'ott815958': 'mrcaott902342ott958215',\n",
       "  'ott821348': 'mrcaott7813ott86154',\n",
       "  'ott826618': 'ott971709',\n",
       "  'ott827790': 'ott971709',\n",
       "  'ott8360': 'ott1012685',\n",
       "  'ott837691': 'ott161967',\n",
       "  'ott84169': 'mrcaott7943ott7946',\n",
       "  'ott850166': 'mrcaott5244ott8394',\n",
       "  'ott856867': 'mrcaott7026ott12648',\n",
       "  'ott856876': 'mrcaott73ott138',\n",
       "  'ott858859': 'mrcaott235997ott747554',\n",
       "  'ott899058': 'mrcaott719ott162734',\n",
       "  'ott90757': 'ott272720',\n",
       "  'ott910233': 'mrcaott1125ott5987',\n",
       "  'ott914245': 'mrcaott345ott24237',\n",
       "  'ott934885': 'mrcaott471ott5265',\n",
       "  'ott934913': 'mrcaott8756ott14578',\n",
       "  'ott939421': 'mrcaott31613ott60668',\n",
       "  'ott945740': 'mrcaott33385ott144192',\n",
       "  'ott947452': 'ott821346',\n",
       "  'ott958144': 'mrcaott7943ott58011',\n",
       "  'ott968359': 'mrcaott11244ott21732',\n",
       "  'ott969668': 'ott971709',\n",
       "  'ott989246': 'ott971709'},\n",
       " 'newick': \"((((((((((((((((((((((((((((((((((((((((((((((mrcaott345ott24237)mrcaott345ott38722)mrcaott345ott177705)mrcaott345ott18689)mrcaott345ott22364)mrcaott345ott3949,((((Salicaceae_ott530183)mrcaott8858ott98085)mrcaott8858ott12186)mrcaott8858ott33097)mrcaott3853ott8858)mrcaott345ott3853)Malpighiales_ott429482)mrcaott2ott345)mrcaott2ott1479,(((Rosaceae_ott208036)Rosales_ott208031,(((Fagaceae_ott267713)mrcaott32687ott37377)Fagales_ott267709)mrcaott2511ott32687)mrcaott371ott2511,((Fabaceae_ott560323)mrcaott579ott179386)Fabales_ott956360)mrcaott371ott579)mrcaott2ott371)fabids_ott565281,(((((((((Anacardiaceae_ott423320)mrcaott96ott21231)mrcaott96ott655994)mrcaott96ott1860)mrcaott96ott84975)Sapindales_ott229288,((((((((((((Brassicaceae_ott309271)mrcaott378ott83547)mrcaott378ott28763)mrcaott378ott509568)mrcaott378ott125843)mrcaott378ott9635)mrcaott378ott318175)mrcaott378ott509555)mrcaott378ott32461)mrcaott378ott307071)Brassicales_ott8844,((((Malvaceae_ott279960)mrcaott3190ott103459)mrcaott1697ott3190)mrcaott1697ott8010)Malvales_ott229284)mrcaott378ott1697)mrcaott378ott29446)mrcaott96ott378)mrcaott96ott50744)mrcaott96ott14140,((Geraniaceae_ott948914)Geraniales_ott648900,(((Onagraceae_ott1015483)mrcaott3226ott17318)mrcaott3226ott24109)Myrtales_ott648898)mrcaott607ott1276)malvids_ott565277)rosids_ott1008296)mrcaott2ott8384,((((Crassulaceae_ott509332)mrcaott4115ott45014)mrcaott4115ott26027)mrcaott2464ott4115)Saxifragales_ott648890)mrcaott2ott2464,((((((((((((((((((Plantaginaceae_ott1041309)mrcaott248ott22352)mrcaott248ott55260,(((((Lamiaceae_ott544714)mrcaott1452ott1607)mrcaott1452ott2133)mrcaott1452ott5046)mrcaott1016ott1452)mrcaott1016ott25224)mrcaott248ott1016)'Core_Lamiales ott5263556')mrcaott248ott55259,(Oleaceae_ott23723)mrcaott11341ott371758)mrcaott248ott11341)Lamiales_ott23736,Boraginales_ott5261925)mrcaott248ott2108,((Rubiaceae_ott1014022)Gentianales_ott524062)mrcaott1191ott2192)mrcaott248ott1191)mrcaott248ott26035)mrcaott248ott979274)lamiids_ott596112,((((((((((Asteraceae_ott46248)mrcaott320ott57808)mrcaott320ott2693)mrcaott320ott12522)mrcaott320ott64989)mrcaott320ott55033)mrcaott320ott3504)Asterales_ott1042120)mrcaott320ott77310,((((((((Apiaceae_ott372831)mrcaott1673ott11198)mrcaott1673ott5421)Apiineae_ott1091578)mrcaott1673ott40427)mrcaott1673ott22681)Apiales_ott372834)mrcaott1673ott2128)mrcaott1673ott94529)mrcaott320ott1673)campanulids_ott596121)mrcaott248ott320,((((((((((Ericaceae_ott66730)mrcaott11591ott66740)mrcaott11591ott49258)mrcaott9475ott11591)mrcaott3582ott9475)mrcaott3582ott32213)mrcaott891ott3582)mrcaott650ott891)mrcaott650ott8984)mrcaott650ott5936)Ericales_ott648892)mrcaott248ott650)asterids_ott1008294,(((((((Caryophyllaceae_ott317818,(((mrcaott5200ott16365)mrcaott5200ott22343)mrcaott5200ott16731)mrcaott5200ott132425)mrcaott557ott5200,((((((Aizoaceae_ott367508)mrcaott8870ott34160)mrcaott8870ott236604)mrcaott8870ott338097)mrcaott904ott8870)mrcaott904ott264912)mrcaott904ott121240)mrcaott557ott904)mrcaott557ott37775)mrcaott557ott864011)mrcaott557ott717698,(((Polygonaceae_ott904376)mrcaott2492ott19574)mrcaott2492ott87682)mrcaott2492ott6468)Caryophyllales_ott216628)mrcaott557ott67236)mrcaott248ott557)mrcaott248ott20991)mrcaott248ott10053)Pentapetalae_ott5316182)Gunneridae_ott853757)eudicotyledons_ott431495)mrcaott2ott8379)mrcaott2ott62529,(((Platanaceae_ott62537)mrcaott969ott80002)mrcaott969ott378630)Proteales_ott828868)mrcaott2ott969)mrcaott2ott2441)mrcaott2ott10930,(((((((((((((((((Poaceae_ott508090)mrcaott252ott427739)mrcaott252ott334529)mrcaott252ott272812)mrcaott252ott3717)mrcaott252ott285512)mrcaott252ott7120)mrcaott252ott1477)mrcaott252ott128594)Poales_ott921871)mrcaott252ott213153)commelinids_ott225270)mrcaott121ott334)mrcaott121ott1439)mrcaott121ott4474)Petrosaviidae_ott5308424,(((((((((Zosteraceae_ott637476)mrcaott40117ott87589)mrcaott30666ott40117)mrcaott30666ott91974)mrcaott30666ott814198)mrcaott30666ott208913)mrcaott30666ott106181)mrcaott5202ott30666)mrcaott5202ott159280)Alismatales_ott399481)mrcaott121ott290)Liliopsida_ott1058517)mrcaott2ott121)Mesangiospermae_ott5298374)mrcaott2ott35778)mrcaott2ott2645)Magnoliopsida_ott99252,((((((Cupressaceae_ott620757)mrcaott8456ott10224)Cupressales_ott5435764)mrcaott237ott8456)mrcaott237ott22198,(Pinaceae_ott994067)Pinales_ott4736806)mrcaott237ott8444)Acrogymnospermae_ott5296507)Spermatophyta_ott10218,(((((((((((((Pteridaceae_ott164361)Pteridineae_ott7045634)mrcaott784ott5078)mrcaott784ott11449)Polypodiales_ott93178)mrcaott784ott50376)mrcaott784ott20406)mrcaott784ott8530)mrcaott784ott48460)mrcaott784ott5624)'Polypodiidae (subclass in kingdom Archaeplastida) ott5662210')mrcaott784ott7848)mrcaott784ott3223)Polypodiopsida_ott166292)Euphyllophyta_ott1007992)Tracheophyta_ott10210)mrcaott2ott70394,(((((((((((Lejeuneaceae_ott454406)mrcaott6241ott80697)Jubulineae_ott633597)mrcaott6241ott27863)Porellales_ott633599)mrcaott6241ott166104)Jungermanniidae_ott663809)mrcaott541ott3219,((((((Fossombroniaceae_ott54102)mrcaott126784ott802662)Fossombroniineae_ott633605)mrcaott126784ott177577)mrcaott82773ott126784)mrcaott82773ott443123)Pelliidae_ott854252)Jungermanniopsida_ott991930)mrcaott541ott15887)Marchantiophyta_ott56601,((((((((((((((((((mrcaott3217ott11158)mrcaott3217ott3663)mrcaott3217ott3664)mrcaott1066ott3217)Hypnanae_ott706542)mrcaott1066ott3221)mrcaott1066ott55850)mrcaott1066ott28787,((Bryaceae_ott548799)mrcaott11723ott222734)mrcaott5529ott11723)mrcaott1066ott5529)mrcaott1066ott147948)mrcaott1066ott2306)mrcaott1066ott405435)mrcaott1066ott48842,((((((((((Fissidentaceae_ott981711)mrcaott40182ott227433)mrcaott11729ott40182)mrcaott1769ott11729)mrcaott1769ott78134,(mrcaott14541ott124912)mrcaott7129ott14541)mrcaott1769ott7129)mrcaott1769ott454747)mrcaott1769ott87462)mrcaott1769ott519134)mrcaott1769ott86147,(((mrcaott7813ott86154)mrcaott7813ott454749)mrcaott7813ott86148)mrcaott7813ott148635)mrcaott1769ott7813)mrcaott1066ott1769)mrcaott1066ott86152)Bryopsida_ott821346,(((Polytrichaceae_ott821352)Polytrichales_ott821351)Polytrichopsida_ott235116)mrcaott79119ott118326)Bryophytina_ott471195)mrcaott1066ott204205)Bryophyta_ott246594)mrcaott541ott1066)Embryophyta_ott56610,((Desmidiaceae_ott439259,Closteriaceae_ott897407,Gonatozygaceae_ott684006)Desmidiales_ott897405,(Zygnemataceae_ott799383)Zygnematales_ott799396)Zygnemophyceae_ott322824)mrcaott2ott8171)mrcaott2ott59852)mrcaott2ott108668,((Klebsormidiaceae_ott799388)Klebsormidiales_ott799390)Klebsormidiophyceae_ott372052)mrcaott2ott50189,(((Mesostigmataceae_ott469250)Mesostigmatales_ott616073)Mesostigmatophyceae_ott930075)mrcaott326012ott976425)Streptophyta_ott916750,(((((Ulvellaceae_ott1018102,Ulvaceae_ott951301)Ulvales_ott951302,(Ulotrichaceae_ott603)Ulotrichales_ott931115)OUU_clade_ott7043886,(((Cladophoraceae_ott1068370)Cladophorales_ott629736)TCBD_clade_ott7043991,((((((Volvocaceae_ott391142)mrcaott23557ott527099)mrcaott9389ott23557)mrcaott9389ott818260,(((((Haematococcaceae_ott391062)mrcaott20288ott560348)mrcaott20288ott659312)mrcaott20288ott333307)mrcaott20288ott727976)mrcaott20288ott226071,Dunaliellaceae_ott979509)mrcaott1544ott9282,(((Pseudomuriellaceae_ott5602195,Bracteacoccaceae_ott812632)mrcaott15345ott15347,(((Selenastraceae_ott441643)mrcaott15353ott30554)mrcaott15353ott132563)mrcaott15353ott763872)mrcaott15345ott15353,(Dictyochloridaceae_ott5602198)mrcaott277486ott502659)mrcaott15345ott277486)mrcaott1544ott15345,((((Chaetophoraceae_ott361849)mrcaott8659ott401408,Aphanochaetaceae_ott1018092)mrcaott8659ott175883,Barrancaceae_ott5917694)Chaetophorales_ott858076,((Chaetopeltidaceae_ott311484)Chaetopeltidales_ott311487)mrcaott87908ott127500)OCC_clade_ott7042532)mrcaott1544ott8659)mrcaott1426ott1544,Oocystaceae_ott339001,(mrcaott39418ott84763)mrcaott39418ott115621,(Koliellaceae_ott4734292,Prasiolaceae_ott668722)Prasiolales_ott94363,(('Coccomyxa (genus in kingdom Archaeplastida) ott450225')Elliptochloris_clade_ott7043515)mrcaott72885ott88629,(Scotinosphaeraceae_ott5233922)Scotinosphaerales_ott5233921)mrcaott185ott1426,((((Mamiellaceae_ott300512,Bathycoccaceae_ott4734594)Mamiellales_ott1032211)Mamiellophyceae_ott210560)mrcaott42071ott129655)mrcaott42071ott42080)mrcaott185ott42071,Chlorococcaceae_ott129601,((Chlorodendraceae_ott542100)Chlorodendrales_ott542096)Chlorodendrophyceae_ott5578918,Neochloridaceae_ott132568,Hydrodictyaceae_ott425644,Actinochloridaceae_ott967446)Chlorophyta_ott979501)Chloroplastida_ott361838,(((Hemiselmis_ott801159)Cryptomonadales_ott7645937,Goniomonas_ott914449)mrcaott7623ott42421,Kathablepharidae_ott269577)Cryptophyceae_ott491172)mrcaott2ott7623,(((((((((((((Plocamium_ott510356)mrcaott42561ott103930)mrcaott7826ott42561)mrcaott3043ott7826)mrcaott3043ott12378,(Prionitis_lyallii_ott510369)Prionitis_ott947028)Rhodymeniophycidae_ott5275832)mrcaott1551ott253799,((((Corallinaceae_ott238997)Corallinales_ott238994,(Hapalidiaceae_ott99087)Hapalidiales_ott5584858)mrcaott36814ott38367)mrcaott36814ott38375)Corallinophycidae_ott5275834)mrcaott1551ott36814,mrcaott7358ott9920)mrcaott1551ott7358)Florideophycidae_ott674036,(Bangiaceae_ott864269)Bangiales_ott999795)mrcaott1551ott10831)mrcaott1551ott142559,(((Stylonemataceae_ott680420)Stylonematales_ott160223)mrcaott80201ott148058)mrcaott80201ott202890)mrcaott1551ott80201,Phragmonemataceae_ott1041969)Rhodophyta_ott878953)mrcaott2ott1551,((Glaucocystaceae_ott664968)Glaucocystales_ott664969)Glaucophyta_ott664970)mrcaott2ott142555,(((((((((((((mrcaott148ott26872,(((((Eunotia_ott111916,((((((Sellaphora_ott974005,Pinnularia_ott548616)mrcaott52677ott71664)mrcaott52677ott625562,(Neidium_ott593706)mrcaott593705ott750872)mrcaott52677ott593705,mrcaott148810ott187183)mrcaott52677ott148810,(((((((((mrcaott193658ott322245)mrcaott193658ott1081715)mrcaott193658ott227398)mrcaott193658ott321877)mrcaott193658ott791852)mrcaott193658ott397781)mrcaott60031ott115630)mrcaott60031ott1081714)mrcaott60031ott505198)mrcaott60031ott667011,((Cocconeis_ott498483)mrcaott148816ott519424)mrcaott103950ott148816)mrcaott24379ott40472)mrcaott24379ott33945)mrcaott8617ott24379)mrcaott8617ott303303)mrcaott1664ott8617)mrcaott1664ott114503)mrcaott1664ott13273)mrcaott148ott1664,(((mrcaott712ott549288,((mrcaott17542ott90995)mrcaott17542ott2811603)mrcaott17542ott257730)mrcaott712ott17542,((mrcaott28086ott595680)mrcaott28086ott549292)mrcaott28086ott103957)mrcaott712ott28086)mrcaott712ott125309)mrcaott148ott712,(Rhizosolenids_ott5248686)mrcaott103952ott272513)mrcaott148ott13272,((Melosira_ott1098671)mrcaott28082ott156713)Melosirids_ott5248685,Skeletonema_ott569303)mrcaott148ott28082)Bacillariophyta_ott5342311)mrcaott148ott96431,((((((((((((((Sargassaceae_ott1022962,Durvillaeaceae_ott9570)Fucales_ott446449)mrcaott2378ott287738)mrcaott2378ott181933)mrcaott2378ott161118,Lessoniaceae_ott753588,Laminariaceae_ott266749,(((Scytosiphonaceae_ott303539,Ectocarpaceae_ott48627)mrcaott10948ott55885,(Acinetosporaceae_ott632598)mrcaott110926ott189736)mrcaott10948ott110926,(((Alariaceae_ott878348)mrcaott48612ott72521)mrcaott48612ott497066)mrcaott34560ott48612)mrcaott10948ott34560)mrcaott2378ott3345)mrcaott2378ott179465)mrcaott2378ott165187,(Dictyotaceae_ott48625)Dictyotales_ott48611)mrcaott2378ott12143)Phaeophyceae_ott48614)mrcaott2378ott4029549,(((Tribonema_ott898587,'Heterococcus (genus in subkingdom SAR) ott517345',(Chlorellidium_tetrabotrys_ott150745)Chlorellidium_ott1069668,Bumilleriopsis_filiformis_ott150999,(Mischococcus_sphaerocephalus_ott517343)Mischococcus_ott517342)Tribonematales_ott223412,(Vaucheriaceae_ott223421)Vaucheriales_ott223420,(Botryidiopsidaceae_ott754467)Mischococcales_ott1004458,(Botrydiaceae_ott795537)Botrydiales_ott1004451)Xanthophyceae_ott151001)mrcaott128669ott241774)mrcaott2378ott128669,Raphidophyceae_ott587225)mrcaott2378ott15569,(((Pseudocharaciopsis_ovalis_ott2811414)Pseudocharaciopsis_ott961982)Eustigmatales_ott423008)mrcaott58215ott246871)mrcaott2378ott58215,(((((((((mrcaott15572ott18893,(Paraphysomonas_ott783302)mrcaott88173ott160774)mrcaott15572ott88173)mrcaott15572ott36309)mrcaott15572ott313330,(Mallomonadaceae_ott112623)mrcaott54776ott83130)mrcaott15572ott54776,((Chrysocapsales_ott4029447,(Hibberdiaceae_ott756854)Hibberdiales_ott215714)mrcaott373311ott446446)mrcaott264905ott373311)mrcaott6033ott15572)mrcaott6033ott62160)mrcaott6033ott4029553)mrcaott6033ott130357)mrcaott6033ott77606)mrcaott2378ott6033)mrcaott148ott2378,(((Lagenidium_ott263362)mrcaott9442ott271521,Pythiogetonaceae_ott398393,(Anisolpidiaceae_ott4807253)Anisolpidiales_ott4807252)Peronosporomycetes_ott555765,((Hyphochytrium_catenoides_ott435099)Hyphochytrium_ott435110,Rhizidiomycetaceae_ott910109)Hyphochytriales_ott5246791)mrcaott720ott435099)mrcaott148ott720,(((Cafeteriidae_ott5247556)mrcaott105353ott142675,Bicosoecidae_ott733747)Bicosoecida_ott215707)mrcaott105353ott137088)mrcaott148ott105353,(Thraustochytriaceae_ott164906,Labyrinthula_ott230522)Labyrinthulomycetes_ott273318,(Stephanopyxis_turris_ott663107)'MAST-3 ott5246790')Stramenopiles_ott266745,((((((((Glabratellidae_ott145056)Discorboidea_ott208715)Rotaliida_ott158516)Globothalamea_ott5248762)Foraminifera_ott936399,(((Sphaerozoum_punctatum_ott1093165)'Sphaerozoum (genus in order Collodaria) ott566623')Collodaria_ott5248761)Polycystinea_ott566633)Retaria_ott4972641,((Phagomyxa_bellerocheae_ott423155)Phagomyxa_ott423154)Phytomyxea_ott5247591)mrcaott7555ott283300)mrcaott7555ott74170,(((Rhogostoma_ott530173)Rhizaspididae_ott5251285)Cryomonadida_ott1072395,(Pseudodifflugia_cf._gracilis_ott875556)'Pseudodifflugia (genus in subkingdom SAR) ott875566')Thecofilosea_ott122875,((((((Trinematidae_ott875559)mrcaott15841ott247675)mrcaott15830ott15841)mrcaott15830ott15832,((Paulinellidae_ott247674,Ovulinatidae_ott166755)mrcaott184610ott689855,Cyphoderiidae_ott639619)mrcaott184610ott504024,Sphenoderiidae_ott5288603)Euglyphida_ott300618,((Thaumatomonadidae_ott4918143)Thaumatomonadida_ott122819,(Spongomonadidae_ott5282540)Spongomonadida_ott5248740)mrcaott24865ott259436)mrcaott15830ott24865)Imbricatea_ott5247593,Cercomonadidae_ott554898,Vampyrellidae_ott319941,(('Heteromita (genus silva:U42447/#6) ott554901',(Allapsa_vibrans_ott122816)'Allantion (genus silva:AF411265/#6) ott122815')Glissomonadida_ott873592,((Gromia_oviformis_ott962362)'Gromia (genus in subkingdom SAR) ott962361')mrcaott721105ott4019270)mrcaott50037ott721105)Rhizaria_ott6929)mrcaott148ott7555,((((Condylostoma_ott142537,Blepharisma_ott76881,Spirostomum_ott493861,(Peritromus_kahli_ott683078)Peritromus_ott683085)Heterotrichea_ott94745,(Kentrophoridae_ott962515)Karyorelictea_ott1002119)Postciliodesmatophora_ott940284,((((((mrcaott2981ott2983,(Oxytrichidae_ott1060048)mrcaott76874ott281387,(Oligotrichia_ott810565)mrcaott121510ott932526)mrcaott2981ott76874,(Tintinnopsis_radix_ott1071191)Metacylis_ott540557)mrcaott2981ott15392,(Aspidisca_ott700370)Euplotia_ott5251312,'Gonostomum (genus in subkingdom SAR) ott564872')Spirotrichea_ott899768,(((Epiphyllum_shenzhenense_ott69444)'Epiphyllum (genus in subkingdom SAR) ott440579',Spathidium_ott702768,(Enchelys_polynucleata_ott613620)'Enchelys (genus in subkingdom SAR) ott1072829',(Kentrophyllum_setigerum_ott2824240)Kentrophyllum_ott2824414)Haptoria_ott215584,Mesodiniidae_ott182636)Litostomatea_ott546633,Armophorea_ott1004604)mrcaott1546ott5092,(((('Paramecium (genus in subkingdom SAR) ott568126','Stokesia (genus in subkingdom SAR) ott49905')Peniculia_ott1002116,'Peritrichia (subclass in subkingdom SAR) ott16124')mrcaott1671ott16129,((Pseudocohnilembus_ott702783,Thigmophryidae_ott4029809)Scuticociliatia_ott310012)mrcaott11752ott13570)Oligohymenophorea_ott16119,(((Sorogena_stoianovitchae_ott486834)Sorogena_ott735252,(Platyophrya_vorax_ott581771)Platyophrya_ott209369)Platyophryida_ott5257371,((Maryna_ott150037,(Pseudoplatyophrya_nana_ott360274)Pseudoplatyophyra_ott581757)Colpodida_ott581758,(Cyrtolophosididae_ott209364)Cyrtolophosidida_ott1091381)mrcaott69135ott81749,(Bursariidae_ott1016180,Bryometopus_ott360275)Bursariomorphida_ott1091284)Colpodea_ott129120,((Colepidae_ott1063558,Placidae_ott505674,Prorodontidae_ott1010085,Plagiocampidae_ott4031436)Prorodontida_ott1063562,(Cyclotrichium_cyclokaryon_ott636700)Cryptocaryon_ott4031474)Prostomatea_ott1063560,((Dysteria_ott1037220)Cyrtophoria_ott331184)Phyllopharyngea_ott498746,((Microthoracidae_ott1023410)Microthoracida_ott1023456,(Nassulidae_ott354059)Nassulida_ott26753,(Orthodonellidae_ott1072118,Nassulopsidae_ott2825842)Synhymeniida_ott447225)Nassophorea_ott487263,((Epalxellidae_ott1046642)Odontostomatida_ott1046649)Plagiopylea_ott717925)Conthreep_ott5248773)mrcaott1546ott1671)Intramacronucleata_ott340382)'Ciliophora (phylum in subkingdom SAR) ott302424',((((Babesia_ott826546)Piroplasmorida_ott5248771)Aconoidasida_ott199664,(((Eimeriorina_ott533741)'Coccidia (subclass silva:L24382/#6) ott422671',(Adeleidae_ott389668)Adeleorina_ott266111)Eucoccidiorida_ott687218,(Eugregarinorida_ott884556,(Selenidiidae_ott677743)Archigregarinorida_ott162297)Gregarinasina_ott884559,('Cryptosporidium (genus in Cryptosporida) ott775252')Cryptosporida_ott5248770)Conoidasida_ott129023)Apicomplexa_ott422673,(((((((Symbiodinium_ott797783)Suessiaceae_ott183161)mrcaott4510ott4036333,((((((mrcaott172875ott445957)mrcaott8394ott72751,(Prorocentraceae_ott797788)Prorocentrales_ott797789,Crypthecodinium_ott621392)mrcaott8394ott17643,mrcaott93910ott101878)mrcaott8394ott93910)mrcaott8394ott212229,Amphidomataceae_ott57001)mrcaott5244ott8394,((mrcaott32008ott32010)mrcaott32008ott97685,mrcaott45527ott205099)mrcaott32008ott45527)mrcaott5244ott32008)mrcaott4510ott5244,((Polykrikos_ott837193)Gymnodinium_clade_ott5251327)mrcaott37325ott83477)mrcaott4510ott31132)Dinoflagellata_ott5246809)mrcaott4510ott217309,(Amoebophrya_ott9042,(Syndinium_turbo_ott151120)Syndinium_ott725617,(Euduboscquella_sp._ex_Favella_arcuata_ott1080723)Duboscquella_ott931104)Syndiniales_ott530373,(Colpodellaceae_ott737171)Colpodellida_ott5247640)mrcaott4510ott25130)mrcaott1917ott4510)Alveolata_ott266751)SAR_ott5246039,(Pavlovophyceae_ott5246135,((Prymnesium_ott804521)Prymnesiales_ott747196)Prymnesiophyceae_ott6137287)Haptophyta_ott151014)mrcaott148ott902)mrcaott2ott148,(((((((((mrcaott4961ott4964)mrcaott4961ott196643)Euglenea_ott5257402)Spirocuta_ott7059770)Euglenida_ott5268016)Euglenophyceae_ott5251339)Euglenoida_ott7059757)Euglenozoa_ott1073331,(((((Reclinomonas_americana_ott429200)mrcaott837682ott4742869)Jakoba_ott837684)Jakobida_ott1051908)mrcaott15859ott74636)mrcaott5110ott15859)mrcaott276ott5110,(((((Malawimonas_californiana_ott592946)Malawimonas_ott935422)mrcaott7072ott592946)mrcaott7072ott260292)mrcaott7072ott17180)mrcaott7072ott431515)Excavata_ott2927065)mrcaott2ott276,(((((((mrcaott902342ott958215)Archamoebae_ott509189)mrcaott3973ott603850)mrcaott3973ott105334,((((((((((Cryptodifflugiidae_ott134340)Phryganellina_ott582712)mrcaott134336ott900936)mrcaott113246ott134336)mrcaott61627ott113246)mrcaott61627ott129986)mrcaott61627ott1078309)mrcaott61625ott61627)mrcaott61625ott68587,((((Leptomyxa_reticulata_ott263578)Leptomyxa_ott263579)mrcaott130806ott130807)mrcaott130806ott915666,mrcaott263587ott358503)Leptomyxida_ott739234)mrcaott61625ott130806)mrcaott18159ott61625)mrcaott3973ott18159)mrcaott3973ott26103,((((((((((((Stemonitidae_ott1037479)Stemonitida_ott1037477)mrcaott15654ott16094)mrcaott15654ott277368,((Trichiidae_ott1092928)Trichiida_ott982687)mrcaott35067ott357314)mrcaott15654ott35067)mrcaott15654ott617795)mrcaott15654ott1069660)mrcaott15654ott431661)mrcaott15654ott160687,(Ceratiomyxella_tahitiensis_ott431659)Ceratiomyxella_ott431662)mrcaott15654ott94650)mrcaott15654ott63026,(((Balamuthia_mandrillaris_ott739233)Balamuthia_ott739232)mrcaott58342ott739233)Centramoebida_ott509187)mrcaott15654ott58342,(Cochliopodiidae_ott767925)mrcaott399221ott551744)mrcaott15654ott36347)mrcaott3973ott15653,((((mrcaott4514ott118300)mrcaott4514ott4515)mrcaott4514ott644934)mrcaott4514ott122101,Thecamoebida_ott526383)mrcaott4514ott269459)Amoebozoa_ott1064655)mrcaott2ott3973,(((((((((((((((((((((((((((((((Catarrhini_ott842867)Simiiformes_ott386195)Haplorrhini_ott702152)mrcaott786ott3428)Primates_ott913935)mrcaott786ott112387)Euarchontoglires_ott392222)Boreoeutheria_ott5334778)'Eutheria (in Deuterostomia) ott683263')'Theria (subclass in Deuterostomia) ott229558')Mammalia_ott244265)Amniota_ott229560)Tetrapoda_ott229562)Dipnotetrapodomorpha_ott4940726)Sarcopterygii_ott458402,(((((((((Clupeoidei_ott5541314)Clupeiformes_ott400458)Clupei_ott705411)Otomorpha_ott761450)Clupeocephala_ott285819)Osteoglossocephalai_ott5506109)Teleostei_ott212201)Neopterygii_ott471203)Actinopteri_ott285821)Actinopterygii_ott773483)Euteleostomi_ott114654)Teleostomi_ott114656)'Gnathostomata (superclass in phylum Chordata) ott278114')'Vertebrata (subphylum in Deuterostomia) ott801601')'Craniata (subphylum in Deuterostomia) ott947318',(((Styelidae_ott103750)Stolidobranchia_ott750979)Ascidiacea_ott125647,((Oikopleuridae_ott9994)Copelata_ott4116912)'Appendicularia (class in Opisthokonta) ott737276')Tunicata_ott125649)mrcaott42ott658)Chordata_ott125642)Deuterostomia_ott147604,(((((((((((Coelogynoporidae_ott960814)Proseriata_ott960815,(Bothrioplanidae_ott257325)Bothrioplanida_ott470966)Seriata_ott470964,((Provorticidae_ott343603)Dalyellioida_ott960808,((Karkinorhynchidae_ott752611)Schizorhynchia_ott675101,(Polycystididae_ott162364)Eukalyptorhynchia_ott874786)Kalyptorhynchia_ott557387,(Typhloplanidae_ott110831,Trigonostomidae_ott304605)Neodalyellida_ott4710925)Rhabdocoela_ott110832)Rhabditophora_ott3669734,(Stenostomidae_ott384494)Catenulida_ott384493)Platyhelminthes_ott555379)mrcaott49ott113850,(((Adinetidae_ott787513)Adinetida_ott157975,(Philodinidae_ott831315)Philodinida_ott725949)'Bdelloidea (class in Lophotrochozoa) ott662648',(((Brachionidae_ott471705,Notommatidae_ott71917,Synchaetidae_ott743641,Asplanchnidae_ott251965,Lecanidae_ott404255,Dicranophoridae_ott513189)Ploima_ott251966)Pseudotrocha_ott5673589,((Flosculariidae_ott681210,Conochilidae_ott1039705)Flosculariaceae_ott107174)Gnesiotrocha_ott5673590)Monogononta_ott641254)Rotifera_ott471706)mrcaott49ott4101,(((Chaetonotidae_ott582597)Paucitubulatina_ott1057383)Chaetonotida_ott1057384)Gastrotricha_ott29723)mrcaott49ott210,((((Plumatellidae_ott463358)Plumatellida_ott5261582)Phylactolaemata_ott556359)Bryozoa_ott442934)mrcaott8599ott41146)mrcaott49ott8599,(((((((((Peltospiridae_ott787698)Neomphaloidea_ott335937)Neomphalina_ott5669786)Gastropoda_ott409995)mrcaott56ott111501,(((mrcaott2556ott3381)mrcaott2556ott6150)mrcaott2556ott15452)Bivalvia_ott1025545)mrcaott56ott1589)mrcaott56ott1881,(((((Acanthochitonina_ott161967)mrcaott1621ott8788)Chitonida_ott632185)Neoloricata_ott632187)Polyplacophora_ott632188)mrcaott1621ott21902)Mollusca_ott802117,(((((Lineidae_ott971430)Heteronemertea_ott481610)'Pilidiophora (class in Opisthokonta) ott481613')mrcaott5497ott53821,(Cephalothricidae_ott57430)Palaeonemertea_ott131282)Nemertea_ott445195)mrcaott5497ott37863)mrcaott56ott5497,(((((((((((((((Piscicolidae_ott251556)Oceanobdelliformes_ott7486662)Hirudinida_ott953050)mrcaott674ott251545)Hirudinea_ott1022151)mrcaott519ott674,(Naididae_ott318890)Tubificina_ott639293,(Enchytraeidae_ott840754)Enchytraeida_ott2847398)Clitellata_ott563197,(((Terebellidae_ott106108)mrcaott40349ott105938)mrcaott36390ott40349)mrcaott14801ott36390)mrcaott519ott14801,((((Urechidae_ott954047)Xenopneusta_ott954046)Echiura_ott954036,Capitellidae_ott966425)mrcaott51599ott216520,Opheliidae_ott336915)mrcaott51599ott93898)mrcaott519ott51599,(((Sabellidae_ott992906)mrcaott2010ott82781,(Spionidae_ott912396,Sabellariidae_ott336912)mrcaott4314ott45998)mrcaott2010ott4314,((Cirratulidae_ott1067346)mrcaott26841ott40428)mrcaott11669ott26841)mrcaott2010ott11669)mrcaott519ott2010)mrcaott519ott40346,((((((Polynoidae_ott1067347)mrcaott2534ott80051)mrcaott2534ott258826,Syllidae_ott881665)mrcaott2534ott15236,((Nephtyidae_ott1072318)mrcaott2537ott69290)mrcaott2537ott19215)mrcaott2534ott2537,(((mrcaott42379ott113093)mrcaott42379ott100392)mrcaott42379ott140961)mrcaott34491ott42379)mrcaott2534ott34491)mrcaott2534ott141782)mrcaott519ott2534,((Golfingiidae_ott76597)Sipuncula_ott377817)mrcaott6914ott276457)mrcaott519ott6914)mrcaott519ott17816,Chaetopteridae_ott466487)mrcaott519ott42113)Annelida_ott941620)mrcaott56ott519)Lophotrochozoa_ott155737)mrcaott49ott6612,((((((((((((((((((((((((((((Chironomidae_ott661367)mrcaott451ott18063)Chironomoidea_ott722874)Culicomorpha_ott860946)mrcaott451ott2372)mrcaott451ott168961)mrcaott107ott451)mrcaott107ott6635)mrcaott107ott1037379)Diptera_ott661378)mrcaott107ott8113)mrcaott100ott107,(((((((((((((mrcaott11244ott21732)Chrysomeloidea_ott765489)mrcaott401ott5668)mrcaott401ott409)mrcaott401ott12184)mrcaott387ott401)Cucujiformia_ott684692)mrcaott387ott11242)mrcaott387ott3038,((((mrcaott2288ott2290)Scarabaeoidea_ott504360)Scarabaeiformia_ott809779)mrcaott1335ott2288)mrcaott405ott1335)mrcaott387ott405)'Polyphaga (suborder in cohort Holometabola) ott684689')Coleoptera_ott865243)mrcaott387ott14731)mrcaott387ott1798)mrcaott100ott387,((((((((((((Braconidae_ott678079)Ichneumonoidea_ott678074)mrcaott1153ott546233)mrcaott1153ott1216)mrcaott470ott1153)mrcaott470ott65455)mrcaott470ott201881)mrcaott470ott512895)mrcaott470ott39386)mrcaott470ott29510)mrcaott470ott1057)mrcaott470ott2725)Hymenoptera_ott753726)Holometabola_ott1082885,(((((Cicadellidae_ott990675)'Cicadomorpha (infraorder in suborder Auchenorrhyncha) ott7459754')Auchenorrhyncha_ott5809252)mrcaott695ott3152)Hemiptera_ott603650,(((Phlaeothripidae_ott788835)Phlaeothripoidea_ott788834)'Tubulifera (suborder in Holozoa) ott788837')Thysanoptera_ott457399)Paraneoptera_ott815352)mrcaott100ott695)Neoptera_ott815350)mrcaott100ott3046)'Pterygota (subclass in Opisthokonta) ott1048707')Dicondylia_ott983656)Insecta_ott1062253)mrcaott100ott98461,(((Isotomidae_ott487389)Isotomoidea_ott5011817)Entomobryomorpha_ott635924)Collembola_ott269712)Hexapoda_ott568991)mrcaott100ott131202,(((((((((((Paracalanidae_ott350914)mrcaott32421ott196835)mrcaott6062ott16150)mrcaott6062ott17168)mrcaott4932ott6062)mrcaott4932ott27998)Calanoida_ott461523)Gymnoplea_ott231088,(((((Cyclopidae_ott451821)mrcaott18859ott131541)mrcaott18859ott60915)mrcaott12424ott18859,(((((((((Harpacticidae_ott639300)mrcaott14254ott586975)mrcaott14254ott41175)mrcaott14254ott129252)mrcaott14254ott14260)mrcaott14254ott14257)mrcaott14254ott586971)mrcaott14254ott591459)mrcaott14254ott2953829)Harpacticoida_ott604252)mrcaott12424ott14254,(mrcaott92633ott834287)mrcaott92630ott92633)mrcaott12424ott92630)mrcaott4932ott12424)Neocopepoda_ott754178)Copepoda_ott461528)mrcaott705ott4932)mrcaott100ott705,((((((((Mysidae_ott833650)Mysida_ott42634)Peracarida_ott737016)Eumalacostraca_ott1007062)mrcaott348ott37291)Malacostraca_ott212701,((((((((mrcaott6741ott6742)mrcaott6741ott191795)mrcaott6741ott293042)mrcaott6741ott283984)mrcaott6741ott152043)mrcaott6741ott160888)Thoracica_ott580066)mrcaott6741ott47716)Cirripedia_ott580064)mrcaott348ott6739,(((((((Cytheruridae_ott212764)Cytheroidea_ott632219)Cytherocopina_ott231082,((Cyprididae_ott341236)Cypridoidea_ott927804)Cypridocopina_ott927803)mrcaott42907ott46275)Podocopa_ott341240)Ostracoda_ott580068)mrcaott13209ott370883)Oligostraca_ott5680804)mrcaott348ott13209)mrcaott348ott355326)Pancrustacea_ott985906)Mandibulata_ott985907,((((((((((((mrcaott33580ott33585)mrcaott948ott33580)mrcaott948ott572426)mrcaott948ott7883)mrcaott948ott87171)Araneomorphae_ott725332,(Nemesiidae_ott846217)Mygalomorphae_ott399421)mrcaott948ott17398)Araneae_ott614523)mrcaott948ott49680)mrcaott948ott5504)mrcaott948ott26536)mrcaott343ott948)Chelicerata_ott1041457)Arthropoda_ott632179,(((((Hypsibiidae_ott864429)Hypsibioidea_ott7485594,(Macrobiotidae_ott111444)Macrobiotoidea_ott7485669)'Parachela (order in Protostomia) ott962958')Eutardigrada_ott111445)Tardigrada_ott111438,((((Peripatopsidae_ott1072438)Euonychophora_ott5302072)Udeonychophora_ott5298350)mrcaott12323ott6326040)'Onychophora (phylum in Holozoa) ott1072433')mrcaott11616ott12323)Panarthropoda_ott816442,((((((((((((Aphelenchoididae_ott1002126)mrcaott5576ott7747)Tylenchina_ott485387)mrcaott2229ott10063)mrcaott230ott2229)mrcaott230ott1017663,(Plectidae_ott520552)Plectida_ott5424361)mrcaott230ott46562)mrcaott230ott10161)mrcaott230ott67219)Chromadorea_ott931693,((((((Nordiidae_ott352944)Dorylaimoidea_ott902542,((Longidoridae_ott760954)Longidoroidea_ott377603)mrcaott13557ott85016)mrcaott7162ott13557)mrcaott7162ott129556)Dorylaimina_ott328705)Dorylaimida_ott165384)mrcaott7162ott18708)mrcaott230ott7162,((((Tobrilidae_ott5000230)Tobriloidea_ott5680612)Tobrilina_ott5000229)mrcaott20286ott436506)mrcaott4595ott20286)Nematoda_ott395057)mrcaott230ott52135)Ecdysozoa_ott611099)Protostomia_ott189832)mrcaott42ott49)Bilateria_ott117569,((((Actiniaria_ott1084481)mrcaott150ott7012)mrcaott150ott8420,((((((((((Primnoidae_ott84508)mrcaott47363ott157410)mrcaott47363ott144855)mrcaott47363ott110167)mrcaott47363ott82502)mrcaott47363ott103340)mrcaott3692ott47363)mrcaott3692ott4357)mrcaott3692ott87416)mrcaott3692ott11324)Octocorallia_ott507945)Anthozoa_ott1084488,(((((((((((((((((mrcaott33385ott144192)mrcaott33385ott812835)mrcaott442ott33385)mrcaott442ott54550)mrcaott442ott6501)mrcaott442ott394796)mrcaott442ott732085)mrcaott442ott16926)Leptothecata_ott981800)mrcaott442ott23448,((Corynidae_ott641026)mrcaott75943ott75951)'Capitata (suborder in phylum Cnidaria) ott5139885')mrcaott442ott54563,((mrcaott15308ott15310)mrcaott15308ott110785,Apolemiidae_ott536356)Siphonophorae_ott711116)mrcaott442ott15308)mrcaott442ott76921)mrcaott442ott122693)Hydroidolina_ott444336)Hydrozoa_ott641030,(((((Cyaneidae_ott945739)mrcaott3524ott49544,Pelagiidae_ott983585)Discomedusae_ott5287560)Scyphozoa_ott983579)mrcaott3524ott146028)mrcaott3524ott23368)mrcaott431ott3524)mrcaott431ott12382)Cnidaria_ott641033)mrcaott42ott150)mrcaott42ott570365,(((((((((((Placospongiidae_ott368916)mrcaott8837ott49545)mrcaott8837ott99621,mrcaott16797ott25808)mrcaott8837ott16797)mrcaott8837ott64062)mrcaott8837ott50317)mrcaott8837ott9778)mrcaott8837ott93865)Heteroscleromorpha_ott588758)Demospongiae_ott67816)mrcaott3989ott8837)Porifera_ott67819)mrcaott42ott3989,(((Beroidae_ott570649)Beroida_ott570650)Nuda_ott5653672)'Ctenophora (phylum ncbi:10197) ott641212')Metazoa_ott691846,((Salpingoecidae_ott1066307)Craspedida_ott5247661,(Stephanoecidae_ott349984,Acanthoecidae_ott726081)Acanthoecida_ott5247660)Choanoflagellida_ott202765)mrcaott42ott34294,((((((((Amoebidium_parasiticum_ott463509)mrcaott995840ott4038669)mrcaott99680ott995840)mrcaott99680ott740615)Ichthyophonidae_ott5248820)mrcaott99680ott150349)Ichthyophonae_ott5247663)Ichthyosporea_ott623671)mrcaott3436ott375259)Holozoa_ott5246131,(((((((((((((((((((((((((((mrcaott109ott19801,((Physalacriaceae_ott1082072)mrcaott11233ott47319)mrcaott11233ott46244)mrcaott109ott11233)mrcaott109ott240843,(mrcaott2427ott78376,(Lyophyllaceae_ott1048880)mrcaott25198ott140745)mrcaott2427ott25198)mrcaott109ott2427,((mrcaott206ott11226,((((((('Crepidotus (genus in Nucletmycea) ott493754')mrcaott83324ott442646)mrcaott83324ott811488)mrcaott49499ott83324)mrcaott5864ott7040)mrcaott2341ott5864)mrcaott2341ott3252,(mrcaott8756ott14578)mrcaott8756ott20519)mrcaott2341ott8756)mrcaott206ott2341,(((Amanitaceae_ott445863,Pleurotaceae_ott13836)mrcaott1137ott14434,(Pluteaceae_ott639988)mrcaott6273ott49690)mrcaott1137ott6273)mrcaott1137ott183964)mrcaott206ott1137,(((((Clavariaceae_ott729017)mrcaott69648ott454800)mrcaott69648ott99027)mrcaott3266ott69648)mrcaott3266ott10877)mrcaott3266ott38795)mrcaott109ott206,((Schizophyllaceae_ott8354)mrcaott46242ott401431)mrcaott30821ott46242)mrcaott109ott30821)mrcaott109ott233596,((((mrcaott82940ott140762)mrcaott32867ott82940)mrcaott32867ott86441,((mrcaott48338ott86960)mrcaott48338ott435686)mrcaott48338ott293473)mrcaott471ott5265)mrcaott471ott44719)mrcaott109ott471)mrcaott109ott50573,(((((((Meruliaceae_ott42234)mrcaott6711ott39549,Phanerochaetaceae_ott7505)mrcaott6711ott6854)mrcaott1939ott6711,(Thelephoraceae_ott607536)Thelephorales_ott607547)mrcaott1939ott7501)mrcaott1939ott52426)mrcaott1939ott86215,(((((((Pisolithus_ott1075176)mrcaott49501ott61556)mrcaott4100ott49501)mrcaott4100ott476381,mrcaott4352ott18577)mrcaott4100ott4352,((Rhizopogonaceae_ott1026597,Suillaceae_ott457232)mrcaott61441ott66412)mrcaott61441ott81142)mrcaott4100ott42930)mrcaott4100ott42929)mrcaott4100ott52643,((((Postia_ott202387)Fomitopsidaceae_ott4099718)mrcaott7503ott1054014)mrcaott7503ott500350)mrcaott7503ott84676)mrcaott1939ott4100)mrcaott109ott1939)mrcaott109ott9895,((Schizoporaceae_ott580418)mrcaott42575ott455004)mrcaott42575ott73400)mrcaott109ott33764,((((Tulasnellaceae_ott183806)mrcaott2361ott70669,Ceratobasidiaceae_ott234858)mrcaott2361ott10072)Cantharellales_ott558119,(Sebacinaceae_ott172586,Serendipitaceae_ott5674334)Sebacinales_ott256533)mrcaott2361ott40692)mrcaott109ott2361,(((((((Gautieria_otthii_ott517654)Gautieria_ott854145)mrcaott103290ott5453713)mrcaott103290ott109814)Gomphales_ott822495,((mrcaott14806ott30573)mrcaott14806ott42083)mrcaott14806ott18572)mrcaott3860ott14806,(Geastraceae_ott735798)Geastrales_ott99774)mrcaott3860ott41765,((((Exidia_glandulosa_ott133080)Exidia_ott133079)Auriculariaceae_ott434121)Auriculariales_ott741000,(Hydnodontaceae_ott84942)Trechisporales_ott247828)mrcaott11234ott134670)mrcaott3860ott11234)Agaricomycetes_ott1012685,(Dacrymycetales_ott17233)Dacrymycetes_ott5287468)mrcaott109ott357,(((Sirobasidiaceae_ott711446,(Trichosporonaceae_ott4107405,(('Cryptococcus (genus in Nucletmycea) ott90104')mrcaott20826ott49741,(((Cuniculitremaceae_ott5260754)mrcaott83205ott241056)mrcaott83205ott129982)mrcaott83205ott4937083)mrcaott20826ott83205)mrcaott19503ott20826,Tetragoniomycetaceae_ott5260755,Rhynchogastremataceae_ott4107398)Tremellales_ott183800,(Filobasidiaceae_ott611414,Piskurozymaceae_ott5985468)Filobasidiales_ott747035)mrcaott5194ott101858,(Mrakiaceae_ott5985457,Cystofilobasidiaceae_ott740357)Cystofilobasidiales_ott849463)Tremellomycetes_ott1012689)Agaricomycotina_ott633300,(((((mrcaott9098ott13162)mrcaott760ott9098)mrcaott760ott27913)mrcaott760ott28293)mrcaott760ott28297)mrcaott491ott760)mrcaott109ott491,(((((((((Pucciniaceae_ott809206)mrcaott4991ott6247)mrcaott4991ott12714)Pucciniales_ott234865)mrcaott4991ott311344,(Eocronartiaceae_ott647378)Platygloeales_ott23274)Pucciniomycetes_ott647376,(((((Proceropycnis_pinicola_ott3852781)Proceropycnis_ott3852772)Phleogenaceae_ott707505)Atractiellales_ott564638)Atractiellomycetes_ott1093626)mrcaott141820ott664205)mrcaott4991ott141820,(((((Leucosporidiaceae_ott898250)Leucosporidiales_ott654933)mrcaott11889ott23275)mrcaott11889ott183797)mrcaott11889ott750359,((((Cystobasidiaceae_ott1024595)Cystobasidiales_ott679586,(Erythrobasidiaceae_ott480040)Erythrobasidiales_ott1093628)mrcaott141806ott731832)mrcaott141806ott871540)mrcaott141806ott3852791)mrcaott11889ott141806)mrcaott4991ott11889,(((Kondoaceae_ott5260747)mrcaott23291ott293759)mrcaott23276ott23291)mrcaott23276ott60764)mrcaott4991ott23276)mrcaott4991ott198221)mrcaott109ott4991,(((Geminibasidiaceae_ott4934488)Geminibasidiales_ott4934487)Geminibasidiomycetes_ott5670488)Wallemiomycotina_ott7527302,(Kriegeriaceae_ott661204)Kriegeriales_ott661206)Basidiomycota_ott634628,(((((((((((((((Eurotiales_ott800595)mrcaott235ott58888,((((((mrcaott13947ott542218)mrcaott13947ott920209)mrcaott7955ott13947)mrcaott7943ott7946)mrcaott7943ott700271)mrcaott7943ott244644,((Ajellomycetaceae_ott641832)mrcaott58011ott74163)mrcaott58011ott82621)mrcaott7943ott58011)mrcaott235ott6657)mrcaott235ott123355,(((Verrucariaceae_ott525957)Verrucariales_ott822362,(Cyphellophoraceae_ott5345109)mrcaott219756ott274726)mrcaott34914ott219756)mrcaott34914ott67014)mrcaott235ott34914,(Mycocaliciaceae_ott1066510)Mycocaliciales_ott534180)mrcaott235ott22423,(Sympoventuriaceae_ott5345111)mrcaott1724ott13442)mrcaott235ott1724,((((((((((Pleosporaceae_ott699905,mrcaott4380ott4381)mrcaott1320ott4380)mrcaott1320ott31674)mrcaott1320ott4382)mrcaott1320ott37385,Coniothyriaceae_ott5345468)mrcaott1320ott21437,Melanommataceae_ott566526,Cucurbitariaceae_ott93060,Lophiostomataceae_ott659815,Thyridariaceae_ott5345477,Sporormiaceae_ott335006,Massarinaceae_ott506843,Didymosphaeriaceae_ott81518,Lentitheciaceae_ott866123,Periconiaceae_ott6377823,Corynesporascaceae_ott4081755,Tetraplosphaeriaceae_ott798147,Amniculicolaceae_ott866116,Teichosporaceae_ott5345474,Nigrogranaceae_ott7513520)Pleosporales_ott18194)mrcaott1320ott689966)mrcaott1320ott33787)mrcaott1320ott372181,((Dothioraceae_ott1025079,Dothideaceae_ott708964)Dothideales_ott406068)mrcaott8438ott9480,Capnodiaceae_ott295196)mrcaott1320ott8438)mrcaott235ott1320,((((((((((Lasiosphaeriaceae_ott234778,Chaetomiaceae_ott137202,Sordariaceae_ott572453)mrcaott4995ott20900,(((Chaetosphaeriaceae_ott737940)Chaetosphaeriales_ott778723)mrcaott95328ott652855)mrcaott95328ott144112)mrcaott1741ott4995,(((Valsaceae_ott103004,Diaporthaceae_ott660754)mrcaott5957ott8405,Gnomoniaceae_ott708292)mrcaott5957ott31687,Harknessiaceae_ott5342472,Schizoparmaceae_ott4053762)mrcaott5957ott14911)mrcaott1741ott5957,((((Xylariaceae_ott44252,Diatrypaceae_ott183729,Apiosporaceae_ott425420)Xylariales_ott565288)mrcaott5476ott219359)mrcaott5476ott113472)mrcaott5476ott89139)mrcaott1741ott5476)mrcaott1741ott3675)mrcaott1741ott155480)mrcaott1741ott262725)mrcaott1741ott9815)mrcaott1741ott44265,((((((Dermateaceae_ott186927)mrcaott15644ott132902)mrcaott3396ott15644)mrcaott3396ott5089,(((((((((Rutstroemiaceae_ott620522)mrcaott3913ott76443)mrcaott3913ott737684)mrcaott3913ott43401)mrcaott3913ott1005969)mrcaott3913ott485228)mrcaott3913ott399496)mrcaott3913ott403849)mrcaott3913ott34649,((((Chlorociboria_aeruginosa_ott694200)Chlorociboria_ott839008)mrcaott442023ott489023)mrcaott442023ott478566)mrcaott328846ott442023)mrcaott3913ott106493,Phacidiaceae_ott164634,Chaetomellaceae_ott5980351)Helotiales_ott51652,(Erysiphaceae_ott555361)Erysiphales_ott728374,(Thelebolaceae_ott1085284)Thelebolales_ott947091,(Leotiaceae_ott120977)Leotiales_ott5261770)Leotiomycetidae_ott5344705)Leotiomycetes_ott346134)mrcaott1741ott2987)mrcaott235ott1190)mrcaott235ott3264)mrcaott235ott6545,((Geoglossaceae_ott34358)Geoglossales_ott949246,(Helvellaceae_ott332569,Pezizaceae_ott880965,Pyronemataceae_ott620530,Ascodesmidaceae_ott16909,Tuberaceae_ott526210,Ascobolaceae_ott880973,Sarcosomataceae_ott598523,Sarcoscyphaceae_ott325802)Pezizales_ott880969)mrcaott428ott430)mrcaott235ott428,(Microcaliciaceae_ott4066951)Pertusariales_ott744207,(Lulworthiaceae_ott90657)Lulworthiales_ott90655,(Lobariaceae_ott549050,(Pannariaceae_ott626527)Collematineae_ott661251)Peltigerales_ott294632,(((((((((Cephalothecaceae_ott649020)mrcaott4573ott36640)mrcaott4573ott861697)mrcaott4573ott911773)mrcaott4573ott129215,((((Trichosphaeriaceae_ott123364)Trichosphaeriales_ott123358)mrcaott112654ott214854)mrcaott14840ott112654,((Coniochaetaceae_ott812336)Coniochaetales_ott516157)mrcaott77437ott103601)mrcaott14840ott77437)mrcaott4573ott14840)mrcaott4573ott89967)mrcaott4573ott652857,(((Halosphaeriaceae_ott809127)Halosphaeriales_ott5298502)mrcaott6404ott387627,(Myrmecridiaceae_ott5982357)Myrmecridiales_ott5982356)mrcaott6404ott266113)mrcaott4573ott6404,((((Pithoascus_langeronii_ott194608)mrcaott12794ott52324)mrcaott12794ott249108)mrcaott12794ott12795)Microascaceae_ott464774)mrcaott4573ott12794,Parmeliaceae_ott305904,Glomerellaceae_ott155152,(Phyllostictaceae_ott5298563)Botryosphaeriales_ott641496,(Physciaceae_ott216195,Caliciaceae_ott339438)Teloschistales_ott1001393,(Orbiliaceae_ott293786)Orbiliales_ott972723,(Tubeufiaceae_ott1051949)Tubeufiales_ott5345113,((Ceratostomataceae_ott281842)Melanosporales_ott515679)mrcaott26125ott41243,(Myriangiaceae_ott295792)Myriangiales_ott1063917,(Mytilinidiaceae_ott898961)Mytilinidiales_ott946774,Trichomeriaceae_ott5345482,Extremaceae_ott5682981)Pezizomycotina_ott971709)saccharomyceta_ott1098854,(((Taphrinaceae_ott698727,Protomycetaceae_ott615477)Taphrinales_ott698728)Taphrinomycetidae_ott5292180)Taphrinomycetes_ott921288)mrcaott235ott3445,(Pichiaceae_ott821913,Trichomonascaceae_ott1073640,Metschnikowiaceae_ott668443,Saccharomycetaceae_ott989994,Debaryomycetaceae_ott691987,Phaffomycetaceae_ott529465,Lipomycetaceae_ott834206)Saccharomycetales_ott4085960,(((Schizosaccharomycetaceae_ott990009)Schizosaccharomycetales_ott508517)Schizosaccharomycetidae_ott5670481)Schizosaccharomycetes_ott921286,((Archaeorhizomycetaceae_ott600871)Archaeorhizomycetales_ott600878)Archaeorhizomycetes_ott27662)Ascomycota_ott439373)Dikarya_ott656316)'h2007-1 ott5584405',(((Acaulosporaceae_ott157952,Gigasporaceae_ott4815,Diversisporaceae_ott1059385)Diversisporales_ott385884,(Glomeraceae_ott157950,Claroideoglomeraceae_ott946830)Glomerales_ott157948)Glomeromycetes_ott265358,(Archaeosporaceae_ott348833,Ambisporaceae_ott1056814)Archaeosporales_ott265356,(Paraglomeraceae_ott398097)Paraglomerales_ott385883)Glomeromycota_ott385878)'h2007-2 ott5576447',((((Rhizopodaceae_ott4925961,(((Mucoraceae_ott167677)mrcaott28314ott865649)mrcaott28314ott56792)mrcaott28314ott161304,(Lichtheimiaceae_ott977237,Cunninghamellaceae_ott887966)mrcaott28323ott105504)Mucorales_ott167437)Mucoromycetes_ott7510460,((Endogonaceae_ott837859)Endogonales_ott313413)Endogonomycetes_ott7510404)mrcaott9352ott74465,(Mortierellaceae_ott887963)Mortierellales_ott385877,((Umbelopsidaceae_ott5257415)Umbelopsidales_ott6376576)Umbelopsidomycetes_ott7510613)Mucoromycotina_ott564951)mrcaott109ott9352,((((Entomophthoraceae_ott167672)mrcaott94762ott4039176)Entomophthorales_ott887960,(Basidiobolaceae_ott887959)Basidiobolales_ott149101)Entomophthoromycota_ott97730,((((((Legeriomycetaceae_ott463510)Harpellales_ott138164)Harpellomycetes_ott7510250)mrcaott74463ott660455)mrcaott16480ott74463)Kickxellomycotina_ott759290,((Olpidiaceae_ott41885)Olpidiales_ott5602140,(Piptocephalidaceae_ott157880)Zoopagales_ott956400)mrcaott41889ott157878)mrcaott16480ott41889)mrcaott1423ott16480)mrcaott109ott1423,(((mrcaott235997ott747554)mrcaott67172ott235997)mrcaott67172ott173323)Blastocladiales_ott469418)mrcaott109ott67172,((((Rhizophydiaceae_ott894419,Alphamycetaceae_ott752067,Angulomycetaceae_ott3685328)Rhizophydiales_ott967026,(((Spizellomycetaceae_ott110110,Powellomycetaceae_ott1680)Spizellomycetales_ott383212,(Rhizophlyctidaceae_ott5219619)Rhizophlyctidales_ott4039486)mrcaott36313ott155664)mrcaott36313ott407537)mrcaott3465ott36313,(((Chytriomycetaceae_ott5219615)mrcaott43479ott92011)mrcaott43479ott155498,Synchytriaceae_ott535290)Chytridiales_ott319483,Nowakowskiellaceae_ott5394876)mrcaott3465ott33392,((Monoblepharidaceae_ott305127,Oedogoniomycetaceae_ott33394)Monoblepharidales_ott305126)mrcaott33393ott74466)mrcaott3465ott33393,(Lobulomycetaceae_ott906923)Lobulomycetales_ott906922)mrcaott109ott3465)Fungi_ott352914,((Nucleariidae_ott619451)Nucleariida_ott5247670)Discicristoidea_ott5246837)Nucletmycea_ott5246132)Opisthokonta_ott332573,((Raphidiophryidae_ott675702)Acanthocystidae_ott203539,Heterophryidae_ott675699)Centrohelida_ott755852,(((Fabomonas_tropica_ott500559)Fabomonas_ott971872)Apusomonadidae_ott575898)Thecomonadea_ott5268912)Eukaryota_ott304358,(((((((((((((Desulfobacteraceae_ott774775,((Desulfarculaceae_ott38916)Desulfarculales_ott38914,Syntrophobacteraceae_ott623147)mrcaott13238ott58804)mrcaott50ott13238,mrcaott140429ott226723)mrcaott50ott140429,(((((Desulfomicrobiaceae_ott35689)mrcaott795ott255060,Desulfovibrionaceae_ott385234)mrcaott795ott8122)Desulfovibrionales_ott35706)mrcaott795ott55713,Desulfobulbaceae_ott846631)mrcaott795ott10792,Nitrospinaceae_ott706687)mrcaott50ott795,(mrcaott55524ott112770)mrcaott11138ott11151)mrcaott50ott11138,(((((((((((((((((mrcaott89ott26838)mrcaott89ott4782525)mrcaott89ott21592,((Brucellaceae_ott828127)mrcaott6591ott74272)mrcaott1038ott6591)mrcaott89ott1038,Aurantimonadaceae_ott318334)mrcaott89ott77458)mrcaott89ott2460)mrcaott89ott24274)mrcaott89ott692540,((Bradyrhizobiaceae_ott810830,Xanthobacteraceae_ott253957)mrcaott765ott5748,((Methylocystaceae_ott592899,(Chelatococcus_ott160158)Beijerinckiaceae_ott377931)mrcaott6970ott17793)mrcaott1492ott5822)mrcaott765ott1492)mrcaott89ott765)mrcaott89ott5304,Rhodobiaceae_ott139538)mrcaott89ott74416,(((Caulobacteraceae_ott799500,Hyphomonadaceae_ott101508)Caulobacterales_ott800609,(Parvularculaceae_ott318336)Parvularculales_ott318326)mrcaott7311ott72798)mrcaott721ott7311)mrcaott89ott721,(mrcaott143ott13668,Acetobacteraceae_ott551974)mrcaott143ott295)mrcaott89ott143,((((Erythrobacteraceae_ott253959)mrcaott1966ott41687)mrcaott1966ott17970)mrcaott1966ott15816)Sphingomonadales_ott800600)mrcaott89ott1966,((Anaplasmataceae_ott904940,(Rickettsiaceae_ott50817)mrcaott24020ott265467)mrcaott277ott24020)mrcaott277ott4754937,Holosporaceae_ott79296,Candidatus_Paracaedibacteraceae_ott5900983)mrcaott89ott277,(Sneathiellaceae_ott354000)Sneathiellales_ott353998,(Micropepsaceae_ott7023621)Micropepsales_ott7023620)mrcaott89ott79418,((((((((((Comamonadaceae_ott1074529)mrcaott90ott4018142,(Oxalobacteraceae_ott1036630)mrcaott93ott152)mrcaott90ott93)mrcaott90ott2432)mrcaott90ott41935,(Zoogloeaceae_ott7030372,(Rhodocyclaceae_ott854063,Azonexaceae_ott7030322)mrcaott17558ott17561)Rhodocyclales_ott306284)mrcaott90ott17019,(((Methylophilaceae_ott344389)Methylophilales_ott779195)mrcaott488ott1834,(Nitrosomonadaceae_ott728498,Gallionellaceae_ott548549)Nitrosomonadales_ott216584)mrcaott488ott18118)mrcaott90ott488,(Neisseriaceae_ott286853,Chromobacteriaceae_ott5580669)Neisseriales_ott779197)mrcaott90ott5074,((((((((((((((((((mrcaott103ott9270)mrcaott103ott1442)mrcaott103ott96471)mrcaott103ott18967)mrcaott103ott25291)mrcaott103ott4787635)mrcaott103ott10716)mrcaott103ott4621,(Vibrionaceae_ott181213)Vibrionales_ott767331)mrcaott103ott495,Aeromonadales_ott767314)mrcaott103ott7068,(Psychromonadaceae_ott1039349,Moritellaceae_ott1039356)mrcaott492ott494)mrcaott103ott492,(Shewanellaceae_ott1039354)mrcaott493ott4057)mrcaott103ott493,(((Colwelliaceae_ott462335,Pseudoalteromonadaceae_ott462337)mrcaott496ott578)mrcaott496ott33807,(Idiomarinaceae_ott740996)mrcaott13536ott25452)mrcaott496ott13536)mrcaott103ott496,Kangiella_ott943611)mrcaott103ott136298,(((Oceanospirillaceae_ott767327,((Halomonadaceae_ott578817)mrcaott1123ott1501)mrcaott1123ott1558)mrcaott1093ott1123)mrcaott1093ott18821)mrcaott1093ott2355,Porticoccus_ott4788251)mrcaott103ott1093,((mrcaott719ott162734,Legionellaceae_ott185173)mrcaott719ott2760,Francisellaceae_ott912359)mrcaott719ott20166)mrcaott103ott719,(((((Xanthomonadaceae_ott648766,'uncultured (silva:AB179525/#5) ott5276441')Xanthomonadales_ott193065)mrcaott1562ott3230)mrcaott1562ott29516,(((Methylococcaceae_ott489013,Crenotrichaceae_ott38)Methylococcales_ott193050)mrcaott12573ott298655)mrcaott12573ott133769)mrcaott1562ott12573)mrcaott1562ott6385)mrcaott103ott1562,Saccharospirillaceae_ott17900,Thioprofundum_ott626433,Granulosicoccaceae_ott377598,Woeseiaceae_ott5906025,Wenzhouxiangellaceae_ott5580738)mrcaott103ott33958)mrcaott103ott41004)mrcaott90ott103)mrcaott90ott14181)mrcaott90ott191429)mrcaott89ott90,((Bacteriovoracaceae_ott647484,Bdellovibrionaceae_ott469981)Bdellovibrionales_ott630478,((Polyangiaceae_ott872663,(Haliangiaceae_ott94318)mrcaott96482ott394782)mrcaott23823ott96482,((Myxococcaceae_ott939441)mrcaott31613ott164563,Anaeromyxobacter_ott179328)mrcaott31613ott60668,Phaselicystidaceae_ott914477,Sandaracinaceae_ott203809,(Oligoflexus_tunisiensis_ott4749757)'0319-6G20 ott5249052')Myxococcales_ott1007130)mrcaott19781ott23823)mrcaott89ott19781)mrcaott50ott89,((((((Candidatus_Solibacter_usitatus_ott746305)Candidatus_Solibacter_ott746308,Bryobacteraceae_ott7001977)PAUC26f_ott5248136)Subgroup_3_ott5247039)mrcaott51461ott55728,(RB41_ott5248128)Subgroup_4_ott5247037)Acidobacteriia_ott1051849,((Holophagaceae_ott684987)Holophagales_ott684991)Holophagae_ott522757)Acidobacteria_ott952528)mrcaott50ott51461,(mrcaott6117ott105428,(((((((Campylobacteraceae_ott1033810)mrcaott8800ott16851)mrcaott8800ott405457)mrcaott8800ott4775403)Epsilonproteobacteria_ott457116)mrcaott8800ott71229)mrcaott6340ott8800)mrcaott6340ott96344)mrcaott6117ott6340)mrcaott50ott6117,(((('Lineage I (Endomicrobia) ott5247022')'Elusimicrobia (in Elusimicrobia (silva:U81754/#2)) ott5890795')Elusimicrobiales_ott622718)Elusimicrobiaceae_ott675163)'Elusimicrobia (silva:U81754/#2) ott272127')mrcaott50ott107113,((((((((((mrcaott1100ott56697,((((((mrcaott13148ott24308,((Paludibacter_ott782539,(Dysgonomonas_ott622991)mrcaott127851ott4768108)mrcaott69243ott127851)mrcaott14139ott69243)mrcaott13148ott14139)mrcaott13148ott107102)mrcaott13148ott24305)mrcaott10155ott13148,Marinilabiaceae_ott482372,Lentimicrobiaceae_ott5886140)Bacteroidales_ott229093)Bacteroidia_ott935525)mrcaott1100ott10155,Sphingobacteriaceae_ott1083672)mrcaott1100ott4530,(Chitinophagaceae_ott1097171,(Lewinella_ott275451)Saprospiraceae_ott35)mrcaott4863ott54795)mrcaott1100ott4863,(((Cyclobacteriaceae_ott91373)mrcaott4495ott21155,(((((((Candidatus_Amoebophilus_asiaticus_ott4768028)Candidatus_Amoebophilus_ott4768027)mrcaott36762ott4758256)mrcaott21108ott36762)mrcaott21108ott239209)mrcaott21108ott73175)mrcaott4998ott21108)mrcaott4998ott13186)mrcaott4495ott4998)Cytophagales_ott427259)mrcaott1100ott3185,Rhodothermaceae_ott519779)mrcaott1100ott15165,((((Melioribacter_roseus_ott291278)Melioribacter_ott639297,Ignavibacteriaceae_ott50759)Ignavibacteriales_ott50757)Ignavibacteria_ott291276)Chlorobi_ott1016100)mrcaott1100ott10462,Caldithrix_ott4019026)mrcaott1100ott4766969,((((Gemmatimonadaceae_ott264370)Gemmatimonadales_ott264367)'Gemmatimonadetes (silva:AB015540/#3) ott5896232')'Gemmatimonadetes (silva:AB015540/#2) ott268287')mrcaott62582ott4745118)mrcaott1100ott62582,((('Spirochaetaceae (family silva:D45192/#5) ott992113')mrcaott3482ott20385,Leptospiraceae_ott379258)Spirochaetales_ott992119,(Fibrobacteraceae_ott220318,((Chitinispirillaceae_ott5890864)Chitinispirillales_ott5890863)Chitinispirillia_ott5890862)Fibrobacteres_ott578296)mrcaott3482ott140784)mrcaott1100ott3482,(((((((((Verrucomicrobiaceae_ott508842,Rubritaleaceae_ott4015049,Verrucomicrobia_subdivision_3_ott384339)Verrucomicrobiales_ott75318)Verrucomicrobiae_ott479559,((Chthoniobacteraceae_ott5249348)Chthoniobacterales_ott5248202)Spartobacteria_ott213282)mrcaott38595ott651749)mrcaott38595ott4795761)mrcaott38595ott269540,(((Opitutaceae_ott384336)Opitutales_ott569812)mrcaott102601ott104993)Opitutae_ott793486)Verrucomicrobia_ott723410)mrcaott38595ott104161)mrcaott1732ott38595,((('Planctomycetaceae (family silva:L10942/#5) ott839905',(Isosphaeraceae_ott5896423,Gemmataceae_ott5996314)mrcaott18907ott329463)Planctomycetales_ott686233,(Brocadiaceae_ott454953)Brocadiales_ott980858)Planctomycetacia_ott553029,((Phycisphaeraceae_ott822784)Phycisphaerales_ott822786,(Tepidisphaeraceae_ott5896417)Tepidisphaerales_ott5896416)Phycisphaerae_ott822782)Planctomycetes_ott553035)mrcaott1732ott18422)mrcaott1100ott1732)mrcaott50ott1100,((((((((((((((((((Promicromonosporaceae_ott856874)mrcaott6594ott15152)mrcaott6594ott10624)mrcaott6594ott76456)mrcaott73ott6594,((Microbacteriaceae_ott231766)mrcaott138ott4770011,'Micrococcaceae (family silva:D84567/#5) ott146214')mrcaott138ott175)mrcaott73ott138,(Kineosporiaceae_ott41216)Kineosporiales_ott5246950)mrcaott73ott56737,((Intrasporangiaceae_ott231761)mrcaott4529ott200843)mrcaott4529ott68820)mrcaott73ott4529,mrcaott7026ott12648)mrcaott73ott7026)mrcaott73ott8022,((((((((Mycobacteriaceae_ott759688)mrcaott292ott570)mrcaott292ott7821)mrcaott292ott2225)Corynebacteriales_ott282106,mrcaott10354ott17309)mrcaott292ott10354,Nakamurellaceae_ott805878)mrcaott292ott282999,Geodermatophilaceae_ott805882)mrcaott292ott4053,(('Micromonosporaceae (family silva:D63912/#5) ott794945')Micromonosporales_ott282088,Cryptosporangiaceae_ott201800)mrcaott485ott36782)mrcaott292ott485)mrcaott73ott292,((('Streptosporangiaceae (family silva:D85469/#5) ott751340')mrcaott10460ott559821)mrcaott1403ott8433)Streptosporangiales_ott856865)mrcaott73ott1403)mrcaott73ott321742,Frankiaceae_ott212307,Bogoriellaceae_ott118091,Sporichthyaceae_ott805873)Actinobacteria_ott5246105,((Iamiaceae_ott967234,Acidimicrobiaceae_ott132822)Acidimicrobiales_ott132824)Acidimicrobiia_ott5246199)mrcaott73ott380127,((((Rubrobacter_ott633217)Rubrobacterales_ott132816)Rubrobacteriaceae_ott5248042)Rubrobacteria_ott5246202,((Patulibacteraceae_ott761403,Conexibacteraceae_ott346713,Solirubrobacteraceae_ott871283,Parviterribacteraceae_ott5885966)Solirubrobacterales_ott862512,(Gaiellaceae_ott232866)Gaiellales_ott232868,(Thermoleophilaceae_ott419158)Thermophilales_ott5246957)Thermoleophilia_ott5246200)mrcaott59895ott144951)mrcaott73ott59895)mrcaott73ott10666,(((((((Chloroflexaceae_ott973293,Oscillochloridaceae_ott101829)mrcaott22888ott413825)Chloroflexales_ott984934,(Herpetosiphonaceae_ott1085861)Herpetosiphonales_ott1085858)Chloroflexia_ott5889442,(Anaerolineaceae_ott974237)Anaerolineae_ott974241)mrcaott22888ott226827,((((Sphaerobacteraceae_ott282093)Sphaerobacterineae_ott1056701)Sphaerobacterales_ott282099,(Thermomicrobiaceae_ott1085867)Thermomicrobiales_ott1085865)Thermomicrobia_ott5889463)mrcaott54530ott4745146)mrcaott22888ott54530,((Ktedonobacteraceae_ott818909)Ktedonobacteria_ott818896)mrcaott105214ott4745167)mrcaott22888ott105214,((Dehalococcoidaceae_ott438716)Dehalococcoidales_ott438718)Dehalococcoidia_ott346927,((('uncultured (in class Caldilineae) ott5249222')Caldilineaceae_ott533636)Caldilineales_ott533645)Caldilineae_ott533647,(Kallotenuaceae_ott5580351)Kallotenuales_ott5575035)mrcaott22888ott44842)mrcaott73ott22888,((((Deinococcaceae_ott577715,Trueperaceae_ott557746)Deinococcales_ott899084)Deinococci_ott593822)'Deinococcus-Thermus ott564016',(((((((((((((mrcaott1972ott6938)mrcaott1972ott203416)mrcaott1972ott28920)mrcaott1972ott100988)mrcaott355ott1972)mrcaott355ott4774394)mrcaott355ott3678,mrcaott594ott13848)mrcaott355ott594,((Candidatus_Atelocyanobacterium_thalassa_ott4773871)'marine group (in Cyanobacteria/Melainabacteria group) ott5249085')mrcaott5016ott109476)mrcaott355ott5016)mrcaott355ott3169)mrcaott355ott4646)mrcaott355ott6931)Cyanobacteria_ott225495)'Cyanobacteria/Melainabacteria group ott5268478')mrcaott135ott355)mrcaott73ott135)mrcaott50ott73,(((((((((mrcaott216ott19969)mrcaott216ott25102,((((((((((Streptococcaceae_ott175916,mrcaott1125ott5987)mrcaott725ott1125,mrcaott4345ott8579)mrcaott725ott4345,mrcaott975ott4059)mrcaott725ott975)mrcaott725ott6297,((((((((Paenibacillaceae_ott68433,(Thermoactinomycetaceae_ott68435,Alicyclobacillaceae_ott68428)mrcaott26153ott74105)mrcaott3094ott26153)mrcaott3094ott486853)mrcaott3094ott591602)mrcaott3094ott37404)mrcaott3094ott8192)mrcaott3094ott6603)mrcaott3094ott695050,mrcaott3174ott3911)mrcaott3094ott3174)mrcaott725ott3094,(Staphylococcaceae_ott949800)mrcaott1420ott85485)mrcaott725ott1420)mrcaott725ott9340,((((Acholeplasmataceae_ott874208)Acholeplasmatales_ott205586,(Haloplasmataceae_ott4766965)Haloplasmatales_ott4766962)Mollicutes_ott174601)Tenericutes_ott663421,mrcaott4061ott167751)mrcaott1491ott4061)mrcaott725ott1491,(((Fusobacteriaceae_ott479548)Fusobacteriales_ott479554)Fusobacteriia_ott479551)Fusobacteria_ott984929)mrcaott725ott8620,(Eubacteriaceae_ott16703)mrcaott9075ott9817)mrcaott725ott1456)mrcaott184ott216)mrcaott184ott63791)mrcaott184ott16322)mrcaott184ott184124)mrcaott184ott64165,((((Heliobacteriaceae_ott19960)mrcaott5991ott52727)mrcaott5991ott59737)mrcaott2035ott5991,(((Sporomusa_ott641357)mrcaott74538ott274160)mrcaott74538ott948427)Negativicutes_ott272720)mrcaott2035ott39143)mrcaott184ott2035,mrcaott35336ott56955,Symbiobacteriaceae_ott245885,Caldicoprobacteraceae_ott139073)mrcaott184ott19087,(((Synergistaceae_ott437906)Synergistia_ott437903)Synergistales_ott258111)Synergistetes_ott410683)mrcaott184ott100016,((Euzebyaceae_ott1027631)Euzebyales_ott882304,(Nitriliruptoraceae_ott454291)Nitriliruptorales_ott454279)Nitriliruptoria_ott5246203)mrcaott50ott184)mrcaott50ott3311,(((Armatimonadaceae_ott257665)Armatimonadales_ott947733)Armatimonadia_ott947731,((Chthonomonadaceae_ott655594)Chthonomonadales_ott857293)Chthonomonadetes_ott110053)Armatimonadetes_ott520571,(Arenicellaceae_ott5580747)Arenicellales_ott5575238)Bacteria_ott844192,(((((Methanomassiliicoccaceae_ott5580306)Methanomassiliicoccales_ott4796525)Thermoplasmata_ott921398,(((Nitrososphaeraceae_ott686307)Nitrososphaerales_ott686295)Nitrososphaeria_ott5571545)Thaumarchaeota_ott102415)mrcaott13293ott376617)mrcaott6666ott13293)'Archaea (domain silva:D37982/#1) ott996421')cellular_organisms_ott93302;\",\n",
       " 'supporting_studies': ['ot_1363@Tr110586',\n",
       "  'pg_2042@tree4202',\n",
       "  'pg_225@tree5991',\n",
       "  'ot_1421@tree2',\n",
       "  'ot_984@tree1',\n",
       "  'pg_2708@tree6289',\n",
       "  'pg_412@tree2166',\n",
       "  'ot_1489@tree4',\n",
       "  'pg_2044@tree4212',\n",
       "  'pg_713@tree1287',\n",
       "  'pg_2648@tree6171',\n",
       "  'ot_1489@tree2',\n",
       "  'ot_896@tree1',\n",
       "  'pg_2061@tree4245',\n",
       "  'pg_2813@tree6550',\n",
       "  'pg_827@tree1585',\n",
       "  'ot_1046@tree1',\n",
       "  'pg_1217@tree2455',\n",
       "  'pg_2710@tree6291',\n",
       "  'pg_2629@tree6162',\n",
       "  'ot_1047@tree1',\n",
       "  'pg_1337@tree6167',\n",
       "  'pg_2814@tree6551',\n",
       "  'pg_1338@tree2666',\n",
       "  'ot_1350@Tr105258',\n",
       "  'pg_2739@tree6601',\n",
       "  'ot_1366@Tr98763',\n",
       "  'pg_2661@tree6198',\n",
       "  'pg_2742@tree6342',\n",
       "  'ot_1088@Tr102832',\n",
       "  'pg_2618@tree6130',\n",
       "  'ot_1784@Tr106951',\n",
       "  'pg_1428@tree2855',\n",
       "  'pg_2651@tree6177',\n",
       "  'ot_1624@Tr85668',\n",
       "  'ot_1489@tree1',\n",
       "  'ot_502@tree1',\n",
       "  'ot_1268@tree5',\n",
       "  'ot_311@tree1',\n",
       "  'pg_2820@tree6566',\n",
       "  'pg_1133@tree5647',\n",
       "  'pg_2712@tree6296',\n",
       "  'ot_535@tree1',\n",
       "  'pg_2539@tree6294',\n",
       "  'ot_1397@tree1',\n",
       "  'ot_813@tree1',\n",
       "  'ot_650@tree1',\n",
       "  'ot_649@tree1',\n",
       "  'pg_1366@tree6166',\n",
       "  'ot_764@tree1',\n",
       "  'pg_1242@tree2507',\n",
       "  'pg_2822@tree6569',\n",
       "  'ot_183@tree2',\n",
       "  'pg_2753@tree6360',\n",
       "  'ot_182@tree1',\n",
       "  'ot_508@tree2',\n",
       "  'ot_519@tree2',\n",
       "  'ot_930@tree3',\n",
       "  'ot_490@Tr70734',\n",
       "  'pg_793@tree5659',\n",
       "  'pg_1631@tree3297',\n",
       "  'pg_404@tree505',\n",
       "  'pg_2448@tree5223',\n",
       "  'pg_2542@tree5590',\n",
       "  'ot_1592@tree1',\n",
       "  'ot_1176@tree1',\n",
       "  'ot_1417@Tr94055',\n",
       "  'ot_859@tree1',\n",
       "  'pg_1600@tree3231',\n",
       "  'pg_588@tree878',\n",
       "  'pg_2610@tree6117',\n",
       "  'pg_283@tree184',\n",
       "  'pg_1786@tree6257',\n",
       "  'pg_2892@tree6700',\n",
       "  'ot_1067@tree1',\n",
       "  'pg_2709@tree6290',\n",
       "  'ot_1340@Tr92106',\n",
       "  'pg_2741@tree6645',\n",
       "  'pg_2656@tree6185',\n",
       "  'ot_1053@tree1',\n",
       "  'ot_1059@tree1',\n",
       "  'pg_381@tree448',\n",
       "  'pg_874@tree5717',\n",
       "  'pg_883@tree1703',\n",
       "  'ot_1590@tree1',\n",
       "  'pg_2923@tree6751',\n",
       "  'ot_618@tree1',\n",
       "  'pg_2608@tree6288',\n",
       "  'ot_1020@tree1',\n",
       "  'ot_1045@tree1',\n",
       "  'ot_1048@tree1',\n",
       "  'ot_1215@tree2',\n",
       "  'pg_1944@tree3959',\n",
       "  'ot_1215@tree1',\n",
       "  'ot_1024@tree1',\n",
       "  'ot_1161@tree1',\n",
       "  'pg_2879@tree6674',\n",
       "  'ot_1446@tree1',\n",
       "  'pg_2466@tree5304',\n",
       "  'pg_698@tree5648',\n",
       "  'pg_1785@tree6248',\n",
       "  'ot_714@tree2',\n",
       "  'pg_2484@tree6607',\n",
       "  'ot_1032@tree1',\n",
       "  'pg_2812@tree6545',\n",
       "  'pg_2647@tree6169',\n",
       "  'pg_2757@tree6369',\n",
       "  'ot_1039@tree1',\n",
       "  'ot_1391@Tr96262',\n",
       "  'ot_1478@Tr100017',\n",
       "  'ot_1090@Tr99739',\n",
       "  'pg_2701@tree6271',\n",
       "  'pg_1788@tree6534',\n",
       "  'pg_312@tree264',\n",
       "  'ot_445@Tr75519',\n",
       "  'pg_2849@tree6615',\n",
       "  'ot_453@Tr87992',\n",
       "  'ot_1395@Tr96911',\n",
       "  'pg_2556@tree5586',\n",
       "  'ot_1139@Tr97436',\n",
       "  'pg_443@tree562',\n",
       "  'pg_467@tree5592',\n",
       "  'pg_2222@tree4697',\n",
       "  'pg_414@tree519',\n",
       "  'ot_932@tree6',\n",
       "  'ot_1301@Tr27546',\n",
       "  'ot_997@tree1',\n",
       "  'ot_1100@tree1',\n",
       "  'ot_634@tree1',\n",
       "  'pg_2917@tree6745',\n",
       "  'pg_339@tree365',\n",
       "  'pg_1718@tree3460',\n",
       "  'pg_313@tree6681',\n",
       "  'ot_1472@Tr76232',\n",
       "  'ot_1472@Tr76233',\n",
       "  'pg_1563@tree6170',\n",
       "  'ot_1961@tree1',\n",
       "  'pg_437@tree6242',\n",
       "  'pg_2594@tree6014',\n",
       "  'ot_1471@Tr31126',\n",
       "  'ot_1469@Tr108340',\n",
       "  'ot_1184@tree1',\n",
       "  'ot_1654@tree1',\n",
       "  'pg_1278@tree2572',\n",
       "  'pg_1474@tree2969',\n",
       "  'pg_529@tree761',\n",
       "  'pg_432@tree546',\n",
       "  'pg_406@tree509',\n",
       "  'pg_2842@tree6603',\n",
       "  'pg_2916@tree6744',\n",
       "  'ot_615@Tr76459',\n",
       "  'ot_221@Tr72273',\n",
       "  'ot_435@Tr70597',\n",
       "  'ot_458@Tr80994',\n",
       "  'ot_1141@Tr88900',\n",
       "  'ot_1351@Tr61887',\n",
       "  'pg_477@tree633',\n",
       "  'pg_475@tree5594',\n",
       "  'ot_895@tree2',\n",
       "  'ot_956@tree1',\n",
       "  'ot_811@tree1',\n",
       "  'ot_1627@Tr46103',\n",
       "  'pg_421@tree523',\n",
       "  'ot_985@tree1',\n",
       "  'ot_1315@tree1',\n",
       "  'ot_1782@Tr111615',\n",
       "  'pg_562@tree817',\n",
       "  'ot_1027@tree1',\n",
       "  'pg_961@tree5754',\n",
       "  'ot_898@tree2',\n",
       "  'ot_929@tree1',\n",
       "  'ot_942@Tr94692',\n",
       "  'pg_1951@tree3975',\n",
       "  'ot_1587@tree1',\n",
       "  'ot_1589@tree1',\n",
       "  'pg_1691@tree3407',\n",
       "  'pg_2626@tree6142',\n",
       "  'pg_2642@tree6161',\n",
       "  'pg_2793@tree6705',\n",
       "  'ot_1389@Tr97256',\n",
       "  'ot_1030@tree1',\n",
       "  'pg_704@tree1266',\n",
       "  'ot_752@tree1',\n",
       "  'ot_546@Tr85942',\n",
       "  'ot_353@Tr55240',\n",
       "  'ot_389@Tr63300',\n",
       "  'ot_1477@Tr25846',\n",
       "  'ot_443@Tr74361',\n",
       "  'ot_1314@Tr5182',\n",
       "  'pg_401@tree5569',\n",
       "  'pg_2553@tree5579',\n",
       "  'pg_2775@tree6432',\n",
       "  'ot_1019@tree4',\n",
       "  'ot_1025@tree1',\n",
       "  'ot_1105@Tr76755',\n",
       "  'pg_1340@tree2669',\n",
       "  'ot_1334@Tr2234',\n",
       "  'ot_1334@Tr2236',\n",
       "  'ot_1334@Tr2237',\n",
       "  'pg_389@tree470',\n",
       "  'pg_2518@tree5428',\n",
       "  'pg_1604@tree5891',\n",
       "  'pg_668@tree1193',\n",
       "  'ot_656@tree2',\n",
       "  'ot_97@tree4',\n",
       "  'pg_358@tree406']}"
      ]
     },
     "execution_count": 460,
     "metadata": {},
     "output_type": "execute_result"
    }
   ],
   "source": [
    "outputplus.response_dict"
   ]
  },
  {
   "cell_type": "code",
   "execution_count": 463,
   "metadata": {},
   "outputs": [],
   "source": [
    "tmp_tree = copy.deepcopy(outputplus.tree)"
   ]
  },
  {
   "cell_type": "code",
   "execution_count": 482,
   "metadata": {},
   "outputs": [],
   "source": []
  },
  {
   "cell_type": "code",
   "execution_count": 464,
   "metadata": {},
   "outputs": [],
   "source": [
    "rev_broken =  {v: k for k, v in broken.items()}\n",
    "rev_fam =  {v: k for k, v in fam_dict.items()}\n",
    "rev_mrca =  {v: k for k, v in fam_mrca.items()}\n",
    "\n",
    "added_fams = set()\n",
    "labels = set()\n",
    "for node in tmp_tree:\n",
    "    if node.taxon:\n",
    "        labels.add(node.taxon.label )\n",
    "        if node.taxon.label in rev_broken:\n",
    "            fam = rev_fam[int(rev_broken[node.taxon.label].strip('ott'))]\n",
    "            node.taxon.label = \"{} broken - MRCA {}\".format(fam, node.taxon.label)\n",
    "        elif node.taxon.label.split()[-1] in rev_mrca:\n",
    "            added_fams.add(node.taxon.label.split()[-1])\n",
    "            fam = rev_mrca[node.taxon.label.split()[-1]]\n",
    "            node.taxon.label = \"{} missing - MRCA {}\".format(fam, node.taxon.label)\n",
    "    elif node.label:\n",
    "        labels.add(node.label)\n",
    "        if node.label in rev_broken:\n",
    "            fam = rev_fam[int(rev_broken[node.label].strip('ott'))]\n",
    "            node.label = \"{} broken - MRCA {}\".format(fam, node.label)\n",
    "        elif node.label.split()[-1] in rev_mrca:\n",
    "            added_fams.add(node.label.split()[-1])\n",
    "            fam = rev_mrca[node.label.split()[-1]]\n",
    "            node.label = \"{} missing - MRCA {}\".format(fam, node.label)"
   ]
  },
  {
   "cell_type": "code",
   "execution_count": 465,
   "metadata": {},
   "outputs": [
    {
     "data": {
      "text/plain": [
       "184"
      ]
     },
     "execution_count": 465,
     "metadata": {},
     "output_type": "execute_result"
    }
   ],
   "source": [
    "len(added_fams)"
   ]
  },
  {
   "cell_type": "code",
   "execution_count": 466,
   "metadata": {},
   "outputs": [
    {
     "data": {
      "text/plain": [
       "191"
      ]
     },
     "execution_count": 466,
     "metadata": {},
     "output_type": "execute_result"
    }
   ],
   "source": [
    "len(rev_mrca)"
   ]
  },
  {
   "cell_type": "code",
   "execution_count": 467,
   "metadata": {},
   "outputs": [],
   "source": [
    "remove_problem_characters(tmp_tree)"
   ]
  },
  {
   "cell_type": "code",
   "execution_count": 468,
   "metadata": {},
   "outputs": [],
   "source": [
    "treefile = \"FAM_cal_eDNA_addedFams.tre\"\n",
    "tmp_tree.write(path = treefile, schema = \"newick\")"
   ]
  },
  {
   "cell_type": "code",
   "execution_count": 469,
   "metadata": {},
   "outputs": [],
   "source": [
    "synth_leaf_ott_ids = set()\n",
    "synth_node_ids = set()\n",
    "#for taxon in output.tree.taxon_namespace:\n",
    "for node in outputplus.tree:\n",
    "    if node.taxon:\n",
    "        synth_leaf_ott_ids.add(node.taxon.label.split()[-1])\n",
    "    if node.label:\n",
    "        synth_node_ids.add(node.label.split()[-1])\n"
   ]
  },
  {
   "cell_type": "code",
   "execution_count": 470,
   "metadata": {},
   "outputs": [],
   "source": [
    "outfi = open('fam_info_synth_plus.csv','w')\n",
    "outfi.write(\"fam_name, ott_id, broken_taxon, mrca_of_descendents, in_synth_tree, selected_descendents\\n\")\n",
    "for fam_name in fam_dict:\n",
    "    ott_id = fam_dict[fam_name]\n",
    "    brok = \"-\"\n",
    "    mrca = \"-\"\n",
    "    in_synth_tree = 'False'\n",
    "    selected_descendents = \"-\"\n",
    "    if ott_id != 'None':\n",
    "        ott_str = \"ott{}\".format(ott_id)\n",
    "        if ott_str in broken:\n",
    "            brok = \"T\"\n",
    "            mrca = broken[ott_str].strip()\n",
    "            if mrca in synth_leaf_ott_ids:\n",
    "                in_synth_tree = 'Leaf'\n",
    "            elif mrca in synth_node_ids:\n",
    "                in_synth_tree = 'Node'\n",
    "        if fam_name in fam_mrca:\n",
    "            brok = \"missing\"\n",
    "            mrca = fam_mrca[fam_name]\n",
    "            if mrca in synth_leaf_ott_ids:\n",
    "                in_synth_tree = 'Leaf'\n",
    "            elif mrca in synth_node_ids:\n",
    "                in_synth_tree = 'Node'\n",
    "            selected_descendents = \";\".join(list(set(spp_reps[fam_name])))\n",
    "        if ott_str in synth_leaf_ott_ids:\n",
    "            in_synth_tree = 'Leaf'\n",
    "        elif ott_str in synth_node_ids:\n",
    "            in_synth_tree = 'Node'\n",
    "            \n",
    "    outfi.write(\"{},{},{},{},{},{}\\n\".format(fam_name, ott_id, brok, mrca, in_synth_tree,selected_descendents))\n",
    "outfi.close()"
   ]
  },
  {
   "cell_type": "code",
   "execution_count": 471,
   "metadata": {},
   "outputs": [
    {
     "data": {
      "text/plain": [
       "916"
      ]
     },
     "execution_count": 471,
     "metadata": {},
     "output_type": "execute_result"
    }
   ],
   "source": [
    "len(fam_dict.keys())"
   ]
  },
  {
   "cell_type": "code",
   "execution_count": 489,
   "metadata": {},
   "outputs": [
    {
     "data": {
      "text/plain": [
       "{'mrcaott23276ott23291': ['ott1021896'],\n",
       " 'mrcaott14541ott124912': ['ott1023962'],\n",
       " 'mrcaott6117ott105428': ['ott1024716'],\n",
       " 'mrcaott2556ott3381': ['ott1025541'],\n",
       " 'mrcaott42379ott140961': ['ott1025751'],\n",
       " 'mrcaott8800ott405457': ['ott1033801'],\n",
       " 'ott971709': ['ott1038708',\n",
       "  'ott104185',\n",
       "  'ott1051950',\n",
       "  'ott1099024',\n",
       "  'ott168443',\n",
       "  'ott419068',\n",
       "  'ott419069',\n",
       "  'ott5345481',\n",
       "  'ott728370',\n",
       "  'ott826618',\n",
       "  'ott827790',\n",
       "  'ott969668',\n",
       "  'ott989246'],\n",
       " 'ott51652': ['ott1047456', 'ott121698', 'ott538149'],\n",
       " 'mrcaott1403ott8433': ['ott1050974'],\n",
       " 'mrcaott23276ott60764': ['ott1085835'],\n",
       " 'mrcaott5864ott7040': ['ott112540'],\n",
       " 'mrcaott50ott184': ['ott122715'],\n",
       " 'mrcaott10354ott17309': ['ott126141'],\n",
       " 'ott183800': ['ott133074'],\n",
       " 'mrcaott1093ott2355': ['ott134473'],\n",
       " 'mrcaott103ott1562': ['ott137782', 'ott441950'],\n",
       " 'mrcaott1492ott5822': ['ott139533'],\n",
       " 'ott822495': ['ott146473'],\n",
       " 'ott5261925': ['ott147029'],\n",
       " 'mrcaott15308ott15310': ['ott15312'],\n",
       " 'mrcaott89ott26838': ['ott158309'],\n",
       " 'ott767314': ['ott160603'],\n",
       " 'ott588758': ['ott161886', 'ott595805'],\n",
       " 'ott1012685': ['ott162651',\n",
       "  'ott371255',\n",
       "  'ott5344590',\n",
       "  'ott569043',\n",
       "  'ott60043',\n",
       "  'ott611412',\n",
       "  'ott8360'],\n",
       " 'mrcaott725ott1456': ['ott16694'],\n",
       " 'mrcaott2035ott5991': ['ott16701'],\n",
       " 'mrcaott216ott19969': ['ott16707'],\n",
       " 'ott887960': ['ott167665'],\n",
       " 'mrcaott16797ott25808': ['ott174866'],\n",
       " 'ott5541314': ['ott175436'],\n",
       " 'mrcaott93910ott101878': ['ott176428'],\n",
       " 'mrcaott13947ott542218': ['ott188805'],\n",
       " 'mrcaott90ott41935': ['ott190168'],\n",
       " 'mrcaott1562ott6385': ['ott191367'],\n",
       " 'mrcaott103ott1093': ['ott191371'],\n",
       " 'mrcaott103ott33958': ['ott193070'],\n",
       " 'mrcaott1562ott12573': ['ott193073'],\n",
       " 'mrcaott1769ott87462': ['ott195711'],\n",
       " 'mrcaott2556ott6150': ['ott198197'],\n",
       " 'mrcaott89ott721': ['ott19981'],\n",
       " 'ott800595': ['ott22936'],\n",
       " 'mrcaott292ott7821': ['ott231769'],\n",
       " 'mrcaott235ott6545': ['ott234186'],\n",
       " 'ott17233': ['ott234863'],\n",
       " 'mrcaott206ott11226': ['ott234956'],\n",
       " 'mrcaott50ott1100': ['ott246447'],\n",
       " 'mrcaott15830ott15841': ['ott247673'],\n",
       " 'ott427259': ['ott25'],\n",
       " 'mrcaott42379ott113093': ['ott260033'],\n",
       " 'mrcaott109ott206': ['ott282217', 'ott4105661'],\n",
       " 'ott793486': ['ott284450'],\n",
       " 'mrcaott4961ott4964': ['ott287927'],\n",
       " 'mrcaott109ott19801': ['ott309993'],\n",
       " 'ott759290': ['ott313414'],\n",
       " 'mrcaott4380ott4381': ['ott3188'],\n",
       " 'mrcaott43479ott155498': ['ott319466'],\n",
       " 'mrcaott89ott90': ['ott324575', 'ott767325'],\n",
       " 'ott641496': ['ott33903'],\n",
       " 'mrcaott2288ott2290': ['ott340559'],\n",
       " 'mrcaott109ott9895': ['ott377012', 'ott404713', 'ott537242'],\n",
       " 'mrcaott89ott5304': ['ott377926'],\n",
       " 'ott634628': ['ott4095240'],\n",
       " 'ott1064655': ['ott41196'],\n",
       " 'mrcaott13148ott24308': ['ott41369'],\n",
       " 'ott1084481': ['ott419294'],\n",
       " 'ott844192': ['ott424023'],\n",
       " 'mrcaott2427ott78376': ['ott438740'],\n",
       " 'mrcaott39418ott84763': ['ott441644'],\n",
       " 'mrcaott4345ott8579': ['ott445856'],\n",
       " 'mrcaott6062ott17168': ['ott461532'],\n",
       " 'mrcaott89ott2460': ['ott46389'],\n",
       " 'mrcaott109ott33764': ['ott464881'],\n",
       " 'mrcaott67172ott235997': ['ott469426'],\n",
       " 'mrcaott1544ott9282': ['ott474062'],\n",
       " 'mrcaott48338ott86960': ['ott48323'],\n",
       " 'mrcaott32008ott32010': ['ott4924792'],\n",
       " 'mrcaott4495ott4998': ['ott494050'],\n",
       " 'mrcaott33580ott33585': ['ott508531'],\n",
       " 'mrcaott4061ott167751': ['ott5248084'],\n",
       " 'ott565288': ['ott550724'],\n",
       " 'mrcaott1320ott37385': ['ott555349'],\n",
       " 'mrcaott2378ott3345': ['ott556107'],\n",
       " 'ott18194': ['ott581434'],\n",
       " 'mrcaott1724ott13442': ['ott581435'],\n",
       " 'mrcaott184ott2035': ['ott589411'],\n",
       " 'mrcaott184ott216': ['ott589414', 'ott748885'],\n",
       " 'mrcaott3174ott3911': ['ott589416'],\n",
       " 'mrcaott2341ott3252': ['ott590456'],\n",
       " 'mrcaott5200ott16365': ['ott5920024'],\n",
       " 'mrcaott14806ott30573': ['ott595719'],\n",
       " 'mrcaott103ott9270': ['ott5998854'],\n",
       " 'mrcaott103ott10716': ['ott5998990'],\n",
       " 'mrcaott1100ott56697': ['ott600685'],\n",
       " 'mrcaott15308ott110785': ['ott619449'],\n",
       " 'mrcaott140429ott226723': ['ott623136'],\n",
       " 'mrcaott61627ott113246': ['ott634872'],\n",
       " 'mrcaott92633ott834287': ['ott644816'],\n",
       " 'mrcaott185ott1426': ['ott651335'],\n",
       " 'mrcaott6741ott6742': ['ott663620'],\n",
       " 'mrcaott82940ott140762': ['ott684071'],\n",
       " 'mrcaott975ott4059': ['ott68422'],\n",
       " 'mrcaott73ott292': ['ott700213'],\n",
       " 'mrcaott55524ott112770': ['ott726987'],\n",
       " 'mrcaott11138ott11151': ['ott726990'],\n",
       " 'mrcaott8837ott93865': ['ott738878'],\n",
       " 'mrcaott184ott63791': ['ott761268'],\n",
       " 'ott842867': ['ott770311'],\n",
       " 'mrcaott3217ott11158': ['ott79118'],\n",
       " 'mrcaott9098ott13162': ['ott809218'],\n",
       " 'ott800600': ['ott810820'],\n",
       " 'mrcaott143ott13668': ['ott810826'],\n",
       " 'mrcaott902342ott958215': ['ott815958'],\n",
       " 'mrcaott7813ott86154': ['ott821348'],\n",
       " 'ott161967': ['ott837691'],\n",
       " 'mrcaott7943ott7946': ['ott84169'],\n",
       " 'mrcaott5244ott8394': ['ott850166'],\n",
       " 'mrcaott7026ott12648': ['ott856867'],\n",
       " 'mrcaott73ott138': ['ott856876'],\n",
       " 'mrcaott235997ott747554': ['ott858859'],\n",
       " 'mrcaott719ott162734': ['ott899058'],\n",
       " 'ott272720': ['ott90757'],\n",
       " 'mrcaott1125ott5987': ['ott910233'],\n",
       " 'mrcaott345ott24237': ['ott914245'],\n",
       " 'mrcaott471ott5265': ['ott934885'],\n",
       " 'mrcaott8756ott14578': ['ott934913'],\n",
       " 'mrcaott31613ott60668': ['ott939421'],\n",
       " 'mrcaott33385ott144192': ['ott945740'],\n",
       " 'ott821346': ['ott947452'],\n",
       " 'mrcaott7943ott58011': ['ott958144'],\n",
       " 'mrcaott11244ott21732': ['ott968359']}"
      ]
     },
     "execution_count": 489,
     "metadata": {},
     "output_type": "execute_result"
    }
   ],
   "source": [
    "rev_broken"
   ]
  },
  {
   "cell_type": "code",
   "execution_count": 486,
   "metadata": {},
   "outputs": [],
   "source": [
    "clean_tree = copy.deepcopy(tmp_tree)"
   ]
  },
  {
   "cell_type": "code",
   "execution_count": 488,
   "metadata": {},
   "outputs": [
    {
     "ename": "AttributeError",
     "evalue": "'list' object has no attribute 'strip'",
     "output_type": "error",
     "traceback": [
      "\u001b[0;31m---------------------------------------------------------------------------\u001b[0m",
      "\u001b[0;31mAttributeError\u001b[0m                            Traceback (most recent call last)",
      "\u001b[0;32m<ipython-input-488-12a052b8a257>\u001b[0m in \u001b[0;36m<module>\u001b[0;34m\u001b[0m\n\u001b[1;32m     20\u001b[0m                     \u001b[0mnode\u001b[0m\u001b[0;34m.\u001b[0m\u001b[0mtaxon\u001b[0m\u001b[0;34m.\u001b[0m\u001b[0mlabel\u001b[0m \u001b[0;34m=\u001b[0m \u001b[0;34m\"-\"\u001b[0m\u001b[0;34m.\u001b[0m\u001b[0mjoin\u001b[0m\u001b[0;34m(\u001b[0m\u001b[0mrev_mrca\u001b[0m\u001b[0;34m[\u001b[0m\u001b[0mottid\u001b[0m\u001b[0;34m]\u001b[0m\u001b[0;34m)\u001b[0m\u001b[0;34m\u001b[0m\u001b[0;34m\u001b[0m\u001b[0m\n\u001b[1;32m     21\u001b[0m                 \u001b[0;32melif\u001b[0m \u001b[0mottid\u001b[0m \u001b[0;32min\u001b[0m \u001b[0mrev_broken\u001b[0m\u001b[0;34m:\u001b[0m\u001b[0;34m\u001b[0m\u001b[0;34m\u001b[0m\u001b[0m\n\u001b[0;32m---> 22\u001b[0;31m                     \u001b[0mnode\u001b[0m\u001b[0;34m.\u001b[0m\u001b[0mtaxon\u001b[0m\u001b[0;34m.\u001b[0m\u001b[0mlabel\u001b[0m \u001b[0;34m=\u001b[0m \u001b[0;34m\"-\"\u001b[0m\u001b[0;34m.\u001b[0m\u001b[0mjoin\u001b[0m\u001b[0;34m(\u001b[0m\u001b[0mrev_fam\u001b[0m\u001b[0;34m[\u001b[0m\u001b[0mint\u001b[0m\u001b[0;34m(\u001b[0m\u001b[0mrev_broken\u001b[0m\u001b[0;34m[\u001b[0m\u001b[0mottid\u001b[0m\u001b[0;34m]\u001b[0m\u001b[0;34m.\u001b[0m\u001b[0mstrip\u001b[0m\u001b[0;34m(\u001b[0m\u001b[0;34m'ott'\u001b[0m\u001b[0;34m)\u001b[0m\u001b[0;34m)\u001b[0m\u001b[0;34m]\u001b[0m\u001b[0;34m)\u001b[0m\u001b[0;34m\u001b[0m\u001b[0;34m\u001b[0m\u001b[0m\n\u001b[0m\u001b[1;32m     23\u001b[0m                 \u001b[0;32melse\u001b[0m\u001b[0;34m:\u001b[0m\u001b[0;34m\u001b[0m\u001b[0;34m\u001b[0m\u001b[0m\n\u001b[1;32m     24\u001b[0m                     \u001b[0mprint\u001b[0m\u001b[0;34m(\u001b[0m\u001b[0mnode\u001b[0m\u001b[0;34m.\u001b[0m\u001b[0mtaxon\u001b[0m\u001b[0;34m.\u001b[0m\u001b[0mlabel\u001b[0m\u001b[0;34m)\u001b[0m\u001b[0;34m\u001b[0m\u001b[0;34m\u001b[0m\u001b[0m\n",
      "\u001b[0;31mAttributeError\u001b[0m: 'list' object has no attribute 'strip'"
     ]
    }
   ],
   "source": [
    "got_fam = set()\n",
    "for node in clean_tree:\n",
    "    if node.taxon:\n",
    "        if node.taxon.label.split()[0] in fam_dict.keys():\n",
    "            node.taxon.label = node.taxon.label.split()[0]\n",
    "            got_fam.add(node.taxon.label.split()[0])\n",
    "        else:\n",
    "            ottid = node.taxon.label.split()[-1]\n",
    "            if ottid.startswith('ott'):\n",
    "                if int(ottid.strip('ott')) in rev_fam:\n",
    "                    node.taxon.label = rev_fam[int(ottid.strip('ott'))]\n",
    "                elif ottid in rev_broken:\n",
    "                    node.taxon.label = rev_fam[int(rev_broken[ottid].strip('ott'))]\n",
    "                elif ottid in rev_mrca:\n",
    "                    node.taxon.label = rev_mrca[ottid]\n",
    "                else:\n",
    "                    print(node.taxon.label)\n",
    "            elif node.taxon.label.split()[-1].startswith('mrca'):\n",
    "                if ottid in rev_mrca:\n",
    "                    node.taxon.label = rev_mrca[ottid]\n",
    "                elif ottid in rev_broken:\n",
    "                    node.taxon.label = rev_fam[int(rev_broken[ottid].strip('ott'))]\n",
    "                else:\n",
    "                    print(node.taxon.label)   \n",
    "    elif node.label:\n",
    "        if node.label.split()[0] in fam_dict.keys():\n",
    "            node.label = node.label.split()[0]\n",
    "            got_fam.add(node.label.split()[0])\n",
    "        else:\n",
    "            node.label = ''\n",
    "    \n",
    "    \n"
   ]
  },
  {
   "cell_type": "code",
   "execution_count": 485,
   "metadata": {},
   "outputs": [],
   "source": [
    "treefile = \"family_clean.tre\"\n",
    "clean_tree.write(path = treefile, schema = \"newick\")"
   ]
  },
  {
   "cell_type": "code",
   "execution_count": 479,
   "metadata": {},
   "outputs": [],
   "source": [
    "# Don't forget to cite your friendly phylogeneticists!\n",
    "studies = outputplus.response_dict['supporting_studies']\n",
    "cites = OT.get_citations(studies) #this can be a bit slow\n",
    "fi = open(\"famcites.txt\",\"w\")\n",
    "fi.write(cites)\n",
    "fi.close()"
   ]
  },
  {
   "cell_type": "code",
   "execution_count": 515,
   "metadata": {},
   "outputs": [],
   "source": [
    "all_ids_to_fam= dict()\n",
    "\n",
    "for fam_name in fam_dict:\n",
    "    ottstr = \"ott{}\".format(fam_dict[fam_name])\n",
    "    if ottstr not in rev_fam:\n",
    "        all_ids_to_fam[ottstr] = set()\n",
    "    all_ids_to_fam[ottstr].add(fam_name)\n"
   ]
  },
  {
   "cell_type": "code",
   "execution_count": 516,
   "metadata": {},
   "outputs": [],
   "source": [
    "for brok_ottid in broken:\n",
    "    if brok_ottid not in all_ids_to_fam:\n",
    "        print(\"oop\")\n",
    "        print(brok_ottid)\n",
    "    cor_ottid = broken[brok_ottid]\n",
    "    all_ids_to_fam[cor_ottid]= all_ids_to_fam[brok_ottid]"
   ]
  },
  {
   "cell_type": "code",
   "execution_count": 517,
   "metadata": {},
   "outputs": [],
   "source": [
    "for fam_name in fam_mrca:\n",
    "    mrca = fam_mrca[fam_name]\n",
    "    if mrca not in all_ids_to_fam:\n",
    "        all_ids_to_fam[mrca] = set()\n",
    "    all_ids_to_fam[mrca].add(fam_name)\n",
    "    \n",
    "del all_ids_to_fam[None]"
   ]
  },
  {
   "cell_type": "code",
   "execution_count": 534,
   "metadata": {},
   "outputs": [],
   "source": [
    "double_tree = copy.deepcopy(tmp_tree)"
   ]
  },
  {
   "cell_type": "code",
   "execution_count": 535,
   "metadata": {},
   "outputs": [],
   "source": [
    "for node in double_tree:\n",
    "    if node.taxon:\n",
    "        ottstr = node.taxon.label.split()[-1]\n",
    "        famlist = all_ids_to_fam[ottstr]\n",
    "        if len(famlist) == 1:\n",
    "            node.taxon.label = list(famlist)[0]\n",
    "        elif len(famlist) > 1:\n",
    "            node.taxon.label = '-'.join(list(famlist))\n",
    "        else:\n",
    "            print(node.taxon.label)\n",
    "    if node.label:\n",
    "        ottstr = node.label.split()[-1]\n",
    "        if ottstr in all_ids_to_fam:\n",
    "            famlist = all_ids_to_fam[ottstr]\n",
    "            if len(famlist) == 1:\n",
    "                node.label = list(famlist)[0]\n",
    "            elif len(famlist) > 1:\n",
    "                node.label = '-'.join(list(famlist))+ottstr"
   ]
  },
  {
   "cell_type": "code",
   "execution_count": 530,
   "metadata": {},
   "outputs": [
    {
     "ename": "AttributeError",
     "evalue": "'NoneType' object has no attribute 'label'",
     "output_type": "error",
     "traceback": [
      "\u001b[0;31m---------------------------------------------------------------------------\u001b[0m",
      "\u001b[0;31mAttributeError\u001b[0m                            Traceback (most recent call last)",
      "\u001b[0;32m<ipython-input-530-508fd65cbd9d>\u001b[0m in \u001b[0;36m<module>\u001b[0;34m\u001b[0m\n\u001b[0;32m----> 1\u001b[0;31m \u001b[0mnode\u001b[0m\u001b[0;34m.\u001b[0m\u001b[0mtaxon\u001b[0m\u001b[0;34m.\u001b[0m\u001b[0mlabel\u001b[0m\u001b[0;34m\u001b[0m\u001b[0;34m\u001b[0m\u001b[0m\n\u001b[0m",
      "\u001b[0;31mAttributeError\u001b[0m: 'NoneType' object has no attribute 'label'"
     ]
    }
   ],
   "source": []
  },
  {
   "cell_type": "code",
   "execution_count": 536,
   "metadata": {},
   "outputs": [],
   "source": [
    "treefile = \"family_double_clean.tre\"\n",
    "double_tree.write(path = treefile, schema = \"newick\")"
   ]
  },
  {
   "cell_type": "code",
   "execution_count": 526,
   "metadata": {},
   "outputs": [
    {
     "data": {
      "text/plain": [
       "'Nitrososphaeraceae'"
      ]
     },
     "execution_count": 526,
     "metadata": {},
     "output_type": "execute_result"
    }
   ],
   "source": [
    "node.taxon.label"
   ]
  },
  {
   "cell_type": "code",
   "execution_count": null,
   "metadata": {},
   "outputs": [],
   "source": []
  }
 ],
 "metadata": {
  "kernelspec": {
   "display_name": "Python 3",
   "language": "python",
   "name": "python3"
  },
  "language_info": {
   "codemirror_mode": {
    "name": "ipython",
    "version": 3
   },
   "file_extension": ".py",
   "mimetype": "text/x-python",
   "name": "python",
   "nbconvert_exporter": "python",
   "pygments_lexer": "ipython3",
   "version": "3.7.3"
  }
 },
 "nbformat": 4,
 "nbformat_minor": 2
}
