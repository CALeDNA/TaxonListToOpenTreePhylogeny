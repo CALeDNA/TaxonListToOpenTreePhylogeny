{
 "cells": [
  {
   "cell_type": "markdown",
   "metadata": {},
   "source": [
    "## Getting a tree for families\n",
    "The opentree module gives us access to the OpenTree Api's via python.  \n",
    "This module is in development, this code was run using the version:  \n",
    "https://github.com/OpenTreeOfLife/python-opentree sha 9e95e6952190c914a5"
   ]
  },
  {
   "cell_type": "code",
   "execution_count": 58,
   "metadata": {},
   "outputs": [],
   "source": [
    "from opentree import OT\n",
    "import copy"
   ]
  },
  {
   "cell_type": "markdown",
   "metadata": {},
   "source": [
    "Get the list of families from a textfile.  "
   ]
  },
  {
   "cell_type": "code",
   "execution_count": 59,
   "metadata": {},
   "outputs": [],
   "source": [
    "fam_fi=open(\"Family_tree_GF.txt\").readlines()\n",
    "fam_names = set()\n",
    "for lin in fam_fi:\n",
    "    lii = lin.strip()\n",
    "    fam_names.add(lii)"
   ]
  },
  {
   "cell_type": "code",
   "execution_count": 25,
   "metadata": {},
   "outputs": [
    {
     "data": {
      "text/plain": [
       "916"
      ]
     },
     "execution_count": 25,
     "metadata": {},
     "output_type": "execute_result"
    }
   ],
   "source": [
    "len(fam_names)"
   ]
  },
  {
   "cell_type": "markdown",
   "metadata": {},
   "source": [
    "Match names to taxon ids in the OpenTree taxonomy  \n",
    "e.g https://tree.opentreeoflife.org/taxonomy/browse?name=Agaricostilbaceae"
   ]
  },
  {
   "cell_type": "code",
   "execution_count": 57,
   "metadata": {},
   "outputs": [],
   "source": [
    "#fam_dict = dict()\n",
    "for fam_name in fam_spps:\n",
    "    if fam_name not in fam_dict:\n",
    "        ott_id = OT.get_ottid_from_name(fam_name)\n",
    "        fam_dict[fam_name] = ott_id "
   ]
  },
  {
   "cell_type": "code",
   "execution_count": 27,
   "metadata": {},
   "outputs": [
    {
     "name": "stdout",
     "output_type": "stream",
     "text": [
      "No ott_id for Clostridiales Family XVII. Incertae Sedis\n",
      "No ott_id for Clostridiales Family XII. Incertae Sedis\n",
      "No ott_id for Clostridiales Family XIII. Incertae Sedis\n",
      "No ott_id for Rep1\n"
     ]
    }
   ],
   "source": [
    "fam_ott_ids = set()\n",
    "no_match = set()\n",
    "for fam_name in fam_dict:\n",
    "    ott_id = fam_dict[fam_name]\n",
    "    if ott_id:\n",
    "        fam_ott_ids.add(ott_id)\n",
    "    else:\n",
    "        print(\"No ott_id for {}\".format(fam_name))"
   ]
  },
  {
   "cell_type": "code",
   "execution_count": 28,
   "metadata": {},
   "outputs": [
    {
     "data": {
      "text/plain": [
       "916"
      ]
     },
     "execution_count": 28,
     "metadata": {},
     "output_type": "execute_result"
    }
   ],
   "source": [
    "len(fam_dict)"
   ]
  },
  {
   "cell_type": "code",
   "execution_count": 29,
   "metadata": {},
   "outputs": [
    {
     "data": {
      "text/plain": [
       "910"
      ]
     },
     "execution_count": 29,
     "metadata": {},
     "output_type": "execute_result"
    }
   ],
   "source": [
    "len(fam_ott_ids)"
   ]
  },
  {
   "cell_type": "code",
   "execution_count": 30,
   "metadata": {},
   "outputs": [],
   "source": [
    "try:\n",
    "    fam_ott_ids.remove(None)\n",
    "except:\n",
    "    pass"
   ]
  },
  {
   "cell_type": "markdown",
   "metadata": {},
   "source": [
    "## Take the ott ids for the families, and get a the synthetic tree."
   ]
  },
  {
   "cell_type": "code",
   "execution_count": 31,
   "metadata": {},
   "outputs": [],
   "source": [
    "output = OT.synth_induced_tree(ott_ids=list(fam_ott_ids),  label_format='name_and_id')"
   ]
  },
  {
   "cell_type": "code",
   "execution_count": 63,
   "metadata": {},
   "outputs": [],
   "source": [
    "# We'll edit the names in some places, so a copy is useful\n",
    "local_tree = copy.deepcopy(output.tree)"
   ]
  },
  {
   "cell_type": "code",
   "execution_count": 66,
   "metadata": {},
   "outputs": [],
   "source": [
    "# Some characters in names mess up newick tree readers\n",
    "def remove_problem_characters(tree, prob_char = \"():#\", replace_w = '?'):\n",
    "    problem_characters = set(prob_char)\n",
    "    for node in tree:\n",
    "        if node.taxon:\n",
    "            for char in problem_characters:\n",
    "                node.taxon.label = node.taxon.label.replace(char,replace_w)\n",
    "        elif node.label:\n",
    "            for char in problem_characters:\n",
    "                node.label = node.label.replace(char,replace_w)\n",
    "    return None"
   ]
  },
  {
   "cell_type": "code",
   "execution_count": 67,
   "metadata": {},
   "outputs": [],
   "source": [
    "remove_problem_characters(local_tree)\n",
    "treefile = \"FAM_cal_eDNA.tre\"\n",
    "local_tree.write(path = treefile, schema = \"newick\")"
   ]
  },
  {
   "cell_type": "markdown",
   "metadata": {},
   "source": [
    "### Broken Taxa\n",
    "Some family names are not found in OpenTree\n",
    "because the members of that family do not form a monophyletic group.  \n",
    "  \n",
    "These are called \"broken taxa\" and the family name is mappedto the MRCA of all the members of that family in taxonomy.  \n",
    "e.g. Agaricostilbaceae is not monophyletic, according to \n",
    "Zhao et al 2017 https://doi.org/10.1007/s13225-017-0381-5\n",
    "https://tree.opentreeoflife.org/curator/study/view/ot_1784/?tab=trees&tree=Tr106951&conflict=ott\n",
    "but the MRCA of all taxa in Agaricostilbaceae maps to\n",
    "https://tree.opentreeoflife.org/opentree/argus/opentree12.3@mrcaott23276ott23291\n",
    "\n",
    "It is possible for multiple family names to map to the same node in the tree.  \n",
    "In those cases I hyphenated the names for that tip."
   ]
  },
  {
   "cell_type": "code",
   "execution_count": 68,
   "metadata": {},
   "outputs": [
    {
     "data": {
      "text/plain": [
       "156"
      ]
     },
     "execution_count": 68,
     "metadata": {},
     "output_type": "execute_result"
    }
   ],
   "source": [
    "broken = output.response_dict['broken']\n",
    "len(broken)"
   ]
  },
  {
   "cell_type": "code",
   "execution_count": 69,
   "metadata": {},
   "outputs": [],
   "source": [
    "rev_fam =  {'ott{}'.format(v):k for k, v in fam_dict.items()}\n",
    "rev_broken = {}\n",
    "\n",
    "for k, v in broken.items():\n",
    "    fam = rev_fam[k]\n",
    "    if v not in rev_broken:\n",
    "        rev_broken[v] = [fam]\n",
    "    else:\n",
    "        rev_broken[v].append(fam)\n",
    "\n",
    "\n",
    "for node in output.tree:\n",
    "    if node.taxon:\n",
    "        if node.taxon.label in rev_broken:\n",
    "            fam = '-'.join(rev_broken[node.taxon.label])\n",
    "            node.taxon.label = \"{} broken - MRCA {}\".format(fam, node.taxon.label)\n",
    "    elif node.label:\n",
    "         if node.label in rev_broken:\n",
    "            fam = '-'.join(rev_broken[node.label])\n",
    "            node.label = \"{} broken - MRCA {}\".format(fam, node.label)"
   ]
  },
  {
   "cell_type": "code",
   "execution_count": 70,
   "metadata": {},
   "outputs": [],
   "source": [
    "treefile = \"FAM_cal_eDNA_mrca.tre\"\n",
    "output.tree.write(path = treefile, schema = \"newick\")"
   ]
  },
  {
   "cell_type": "code",
   "execution_count": 71,
   "metadata": {},
   "outputs": [
    {
     "data": {
      "text/plain": [
       "{'mrcaott23276ott23291': ['Agaricostilbaceae'],\n",
       " 'mrcaott14541ott124912': ['Leucobryaceae'],\n",
       " 'mrcaott6117ott105428': ['Nitrospiraceae'],\n",
       " 'mrcaott2556ott3381': ['Mytilidae'],\n",
       " 'mrcaott42379ott140961': ['Onuphidae'],\n",
       " 'mrcaott8800ott405457': ['Helicobacteraceae'],\n",
       " 'ott971709': ['Bionectriaceae',\n",
       "  'Nectriaceae',\n",
       "  'Herpotrichiellaceae',\n",
       "  'Ophiostomataceae',\n",
       "  'Magnaporthaceae',\n",
       "  'Ophiocordycipitaceae',\n",
       "  'Cordycipitaceae',\n",
       "  'Cladosporiaceae',\n",
       "  'Hypocreaceae',\n",
       "  'Ceratocystidaceae',\n",
       "  'Mycosphaerellaceae',\n",
       "  'Clavicipitaceae',\n",
       "  'Plectosphaerellaceae'],\n",
       " 'ott51652': ['Hyaloscyphaceae', 'Helotiaceae', 'Sclerotiniaceae'],\n",
       " 'mrcaott1403ott8433': ['Thermomonosporaceae'],\n",
       " 'mrcaott23276ott60764': ['Chionosphaeraceae'],\n",
       " 'mrcaott5864ott7040': ['Inocybaceae'],\n",
       " 'mrcaott50ott184': ['Coriobacteriaceae'],\n",
       " 'mrcaott10354ott17309': ['Pseudonocardiaceae'],\n",
       " 'ott183800': ['Tremellaceae'],\n",
       " 'mrcaott1093ott2355': ['Moraxellaceae'],\n",
       " 'mrcaott103ott1562': ['Chromatiaceae', 'Alcanivoracaceae'],\n",
       " 'mrcaott1492ott5822': ['Methylobacteriaceae'],\n",
       " 'ott822495': ['Gomphaceae'],\n",
       " 'ott5261925': ['Hydrophyllaceae'],\n",
       " 'mrcaott15308ott15310': ['Agalmatidae'],\n",
       " 'mrcaott89ott26838': ['Rhizobiaceae'],\n",
       " 'ott767314': ['Aeromonadaceae'],\n",
       " 'ott588758': ['Microcionidae', 'Raspailiidae'],\n",
       " 'ott1012685': ['Tricholomataceae',\n",
       "  'Marasmiaceae',\n",
       "  'Cortinariaceae',\n",
       "  'Hymenochaetaceae',\n",
       "  'Polyporaceae',\n",
       "  'Russulaceae',\n",
       "  'Agaricaceae'],\n",
       " 'mrcaott725ott1456': ['Lachnospiraceae'],\n",
       " 'mrcaott2035ott5991': ['Peptococcaceae'],\n",
       " 'mrcaott216ott19969': ['Peptostreptococcaceae'],\n",
       " 'ott887960': ['Ancylistaceae'],\n",
       " 'mrcaott16797ott25808': ['Desmacellidae'],\n",
       " 'ott5541314': ['Clupeidae'],\n",
       " 'mrcaott93910ott101878': ['Kareniaceae'],\n",
       " 'mrcaott13947ott542218': ['Arthrodermataceae'],\n",
       " 'mrcaott90ott41935': ['Burkholderiaceae'],\n",
       " 'mrcaott1562ott6385': ['Ectothiorhodospiraceae'],\n",
       " 'mrcaott103ott1093': ['Alteromonadaceae'],\n",
       " 'mrcaott103ott33958': ['Piscirickettsiaceae'],\n",
       " 'mrcaott1562ott12573': ['Thiotrichaceae'],\n",
       " 'mrcaott1769ott87462': ['Ditrichaceae'],\n",
       " 'mrcaott2556ott6150': ['Veneridae'],\n",
       " 'mrcaott89ott721': ['Rhodobacteraceae'],\n",
       " 'ott800595': ['Trichocomaceae'],\n",
       " 'mrcaott292ott7821': ['Nocardiaceae'],\n",
       " 'mrcaott235ott6545': ['Teratosphaeriaceae'],\n",
       " 'ott17233': ['Dacrymycetaceae'],\n",
       " 'mrcaott206ott11226': ['Bolbitiaceae'],\n",
       " 'mrcaott50ott1100': ['Flavobacteriaceae'],\n",
       " 'mrcaott15830ott15841': ['Euglyphidae'],\n",
       " 'ott427259': ['Cytophagaceae'],\n",
       " 'mrcaott42379ott113093': ['Eunicidae'],\n",
       " 'mrcaott109ott206': ['Hygrophoraceae', 'Mycenaceae'],\n",
       " 'ott793486': ['Puniceicoccaceae'],\n",
       " 'mrcaott4961ott4964': ['Euglenaceae'],\n",
       " 'mrcaott109ott19801': ['Omphalotaceae'],\n",
       " 'ott759290': ['Kickxellaceae'],\n",
       " 'mrcaott4380ott4381': ['Didymellaceae'],\n",
       " 'mrcaott43479ott155498': ['Chytridiaceae'],\n",
       " 'mrcaott89ott90': ['Alcaligenaceae', 'Pseudomonadaceae'],\n",
       " 'ott641496': ['Botryosphaeriaceae'],\n",
       " 'mrcaott2288ott2290': ['Scarabaeidae'],\n",
       " 'mrcaott109ott9895': ['Peniophoraceae', 'Coniophoraceae', 'Atheliaceae'],\n",
       " 'mrcaott89ott5304': ['Hyphomicrobiaceae'],\n",
       " 'ott634628': ['Sporidiobolaceae'],\n",
       " 'ott1064655': ['Didymiaceae'],\n",
       " 'mrcaott13148ott24308': ['Bacteroidaceae'],\n",
       " 'ott1084481': ['Actiniidae'],\n",
       " 'ott844192': ['Enterobacteriaceae'],\n",
       " 'mrcaott2427ott78376': ['Entolomataceae'],\n",
       " 'mrcaott39418ott84763': ['Chlorellaceae'],\n",
       " 'mrcaott4345ott8579': ['Lactobacillaceae'],\n",
       " 'mrcaott6062ott17168': ['Calanidae'],\n",
       " 'mrcaott89ott2460': ['Phyllobacteriaceae'],\n",
       " 'mrcaott109ott33764': ['Corticiaceae'],\n",
       " 'mrcaott67172ott235997': ['Blastocladiaceae'],\n",
       " 'mrcaott1544ott9282': ['Chlamydomonadaceae'],\n",
       " 'mrcaott48338ott86960': ['Auriscalpiaceae'],\n",
       " 'mrcaott32008ott32010': ['Thoracosphaeraceae'],\n",
       " 'mrcaott4495ott4998': ['Flammeovirgaceae'],\n",
       " 'mrcaott33580ott33585': ['Amaurobiidae'],\n",
       " 'mrcaott4061ott167751': ['Erysipelotrichaceae'],\n",
       " 'ott565288': ['Amphisphaeriaceae'],\n",
       " 'mrcaott1320ott37385': ['Leptosphaeriaceae'],\n",
       " 'mrcaott2378ott3345': ['Chordariaceae'],\n",
       " 'ott18194': ['Phaeosphaeriaceae'],\n",
       " 'mrcaott1724ott13442': ['Venturiaceae'],\n",
       " 'mrcaott184ott2035': ['Thermoanaerobacteraceae'],\n",
       " 'mrcaott184ott216': ['Bacillaceae', 'Clostridiaceae'],\n",
       " 'mrcaott3174ott3911': ['Planococcaceae'],\n",
       " 'mrcaott2341ott3252': ['Strophariaceae'],\n",
       " 'mrcaott5200ott16365': ['Chenopodiaceae'],\n",
       " 'mrcaott14806ott30573': ['Phallaceae'],\n",
       " 'mrcaott103ott9270': ['Erwiniaceae'],\n",
       " 'mrcaott103ott10716': ['Yersiniaceae'],\n",
       " 'mrcaott1100ott56697': ['Cryomorphaceae'],\n",
       " 'mrcaott15308ott110785': ['Prayidae'],\n",
       " 'mrcaott140429ott226723': ['Syntrophaceae'],\n",
       " 'mrcaott61627ott113246': ['Hyalospheniidae'],\n",
       " 'mrcaott92633ott834287': ['Taeniacanthidae'],\n",
       " 'mrcaott185ott1426': ['Scenedesmaceae'],\n",
       " 'mrcaott6741ott6742': ['Chthamalidae'],\n",
       " 'mrcaott82940ott140762': ['Albatrellaceae'],\n",
       " 'mrcaott975ott4059': ['Carnobacteriaceae'],\n",
       " 'mrcaott73ott292': ['Streptomycetaceae'],\n",
       " 'mrcaott55524ott112770': ['Geobacteraceae'],\n",
       " 'mrcaott11138ott11151': ['Desulfuromonadaceae'],\n",
       " 'mrcaott8837ott93865': ['Dictyonellidae'],\n",
       " 'mrcaott184ott63791': ['Ruminococcaceae'],\n",
       " 'ott842867': ['Hominidae'],\n",
       " 'mrcaott3217ott11158': ['Brachytheciaceae'],\n",
       " 'mrcaott9098ott13162': ['Ustilaginaceae'],\n",
       " 'ott800600': ['Sphingomonadaceae'],\n",
       " 'mrcaott143ott13668': ['Rhodospirillaceae'],\n",
       " 'mrcaott902342ott958215': ['Mastigamoebidae'],\n",
       " 'mrcaott7813ott86154': ['Funariaceae'],\n",
       " 'ott161967': ['Mopaliidae'],\n",
       " 'mrcaott7943ott7946': ['Gymnoascaceae'],\n",
       " 'mrcaott5244ott8394': ['Gonyaulacaceae'],\n",
       " 'mrcaott7026ott12648': ['Nocardioidaceae'],\n",
       " 'mrcaott73ott138': ['Cellulomonadaceae'],\n",
       " 'mrcaott235997ott747554': ['Catenariaceae'],\n",
       " 'mrcaott719ott162734': ['Coxiellaceae'],\n",
       " 'ott272720': ['Veillonellaceae'],\n",
       " 'mrcaott1125ott5987': ['Enterococcaceae'],\n",
       " 'mrcaott345ott24237': ['Euphorbiaceae'],\n",
       " 'mrcaott471ott5265': ['Stereaceae'],\n",
       " 'mrcaott8756ott14578': ['Psathyrellaceae'],\n",
       " 'mrcaott33385ott144192': ['Campanulariidae'],\n",
       " 'ott821346': ['Pottiaceae'],\n",
       " 'mrcaott7943ott58011': ['Onygenaceae'],\n",
       " 'mrcaott11244ott21732': ['Cerambycidae']}"
      ]
     },
     "execution_count": 71,
     "metadata": {},
     "output_type": "execute_result"
    }
   ],
   "source": [
    "rev_broken"
   ]
  },
  {
   "cell_type": "code",
   "execution_count": 73,
   "metadata": {},
   "outputs": [],
   "source": [
    "# We can check which taxa are in the tree\n",
    "synth_leaf_ott_ids = set()\n",
    "synth_node_ids = set()\n",
    "\n",
    "for node in output.tree:\n",
    "    if node.taxon:\n",
    "        synth_leaf_ott_ids.add(node.taxon.label.split()[-1])\n",
    "    if node.label:\n",
    "        synth_node_ids.add(node.label.split()[-1])\n"
   ]
  },
  {
   "cell_type": "code",
   "execution_count": 74,
   "metadata": {},
   "outputs": [],
   "source": [
    "outfi = open('fam_info_synth_1.csv','w')\n",
    "outfi.write(\"fam_name, ott_id, broken_taxon, mrca_of_descendents, in_synth_tree\\n\")\n",
    "for fam_name in fam_dict:\n",
    "    ott_id = fam_dict[fam_name]\n",
    "    brok = \"-\"\n",
    "    mrca = \"-\"\n",
    "    in_synth_tree = 'False'\n",
    "    if ott_id != 'None':\n",
    "        ott_str = \"ott{}\".format(ott_id)\n",
    "        if ott_str in broken:\n",
    "            brok = \"T\"\n",
    "            mrca = broken[ott_str].strip()\n",
    "            if mrca in synth_leaf_ott_ids:\n",
    "                in_synth_tree = 'Leaf'\n",
    "            elif mrca in synth_node_ids:\n",
    "                in_synth_tree = 'Node'\n",
    "        if ott_str in synth_leaf_ott_ids:\n",
    "            in_synth_tree = 'Leaf'\n",
    "        elif ott_str in synth_node_ids:\n",
    "            in_synth_tree = 'Node'\n",
    "            \n",
    "    outfi.write(\"{},{},{},{},{}\\n\".format(fam_name, ott_id, brok, mrca, in_synth_tree))\n",
    "outfi.close()"
   ]
  },
  {
   "cell_type": "code",
   "execution_count": 75,
   "metadata": {},
   "outputs": [],
   "source": [
    "missing_fams = set()\n",
    "for fam_name in fam_dict:\n",
    "    ott_id = fam_dict[fam_name]\n",
    "    brok = \"-\"\n",
    "    mrca = \"-\"\n",
    "    in_synth_tree = 'False'\n",
    "    if ott_id != 'None':\n",
    "        ott_str = \"ott{}\".format(ott_id)\n",
    "        if ott_str in broken:\n",
    "            brok = \"T\"\n",
    "            mrca = broken[ott_str].strip()\n",
    "            if mrca in synth_leaf_ott_ids:\n",
    "                in_synth_tree = 'Leaf'\n",
    "            elif mrca in synth_node_ids:\n",
    "                in_synth_tree = 'Node'\n",
    "        if ott_str in synth_leaf_ott_ids:\n",
    "            in_synth_tree = 'Leaf'\n",
    "        elif ott_str in synth_node_ids:\n",
    "            in_synth_tree = 'Node'\n",
    "    if in_synth_tree == 'False':\n",
    "        missing_fams.add(fam_name)"
   ]
  },
  {
   "cell_type": "code",
   "execution_count": 77,
   "metadata": {},
   "outputs": [
    {
     "data": {
      "text/plain": [
       "264"
      ]
     },
     "execution_count": 77,
     "metadata": {},
     "output_type": "execute_result"
    }
   ],
   "source": [
    "len(missing_fams)"
   ]
  },
  {
   "cell_type": "markdown",
   "metadata": {},
   "source": [
    "## Missing families\n",
    "Some families are still not found in the tree  \n",
    "This is often due to taxonomy issues, or name conflicts across sources.  \n",
    "For the families that are mssing from the tree, \n",
    "I pulled the asv transect data to find out what lower taxa  \n",
    "were included representing each family\n"
   ]
  },
  {
   "cell_type": "code",
   "execution_count": 81,
   "metadata": {},
   "outputs": [],
   "source": [
    "fi = open(\"all_asv_transects_for_EJMT.txt\")\n",
    "spp_reps = {}\n",
    "for fam in missing_fams:\n",
    "    spp_reps[fam] = set()\n",
    "for lin in fi:\n",
    "    lii = lin.split(';')\n",
    "    while(\"\" in lii) : \n",
    "        lii.remove(\"\") \n",
    "    for htax in lii:\n",
    "        if htax in missing_fams:\n",
    "            spp_reps[htax].add(lii[-1].strip())"
   ]
  },
  {
   "cell_type": "code",
   "execution_count": 82,
   "metadata": {},
   "outputs": [
    {
     "data": {
      "text/plain": [
       "{'',\n",
       " 'Lyngbya aestuarii',\n",
       " 'Lyngbya polychroa',\n",
       " 'Oscillatoria acuminata',\n",
       " 'Oscillatoria tenuis',\n",
       " 'Phormidium autumnale',\n",
       " 'Phormidium chlorinum',\n",
       " 'Phormidium laetevirens',\n",
       " 'Phormidium sp. B-Tom',\n",
       " 'Phormidium sp. PUPCCC 118.2'}"
      ]
     },
     "execution_count": 82,
     "metadata": {},
     "output_type": "execute_result"
    }
   ],
   "source": [
    "spp_reps['Oscillatoriaceae']"
   ]
  },
  {
   "cell_type": "code",
   "execution_count": 84,
   "metadata": {},
   "outputs": [],
   "source": [
    "#spp_ids = {}\n",
    "for fam in missing_fams:\n",
    "    for spp_name in spp_reps[fam]:\n",
    "        if spp_name not in spp_ids:\n",
    "            ott_id = OT.get_ottid_from_name(spp_name)\n",
    "            spp_ids[spp_name] = ott_id"
   ]
  },
  {
   "cell_type": "code",
   "execution_count": 85,
   "metadata": {},
   "outputs": [
    {
     "name": "stdout",
     "output_type": "stream",
     "text": [
      "Minutisphaeraceae\n",
      "Call to tree_of_life/mrca failed as all ids were pruned\n",
      "Phyllophoraceae\n",
      "Call to tree_of_life/mrca failed as all ids were pruned\n",
      "Ancyromonadidae\n",
      "Call to tree_of_life/mrca failed as all ids were pruned\n",
      "Tontoniidae\n",
      "Call to tree_of_life/mrca failed as all ids were pruned\n",
      "Sanchytriaceae\n",
      "Call to tree_of_life/mrca failed as all ids were pruned\n",
      "Marinifilaceae\n",
      "Call to tree_of_life/mrca failed as all ids were pruned\n",
      "Coleofasciculaceae\n",
      "Call to tree_of_life/mrca failed as all ids were pruned\n",
      "Microbulbiferaceae\n",
      "Phaeocystaceae\n",
      "Balneolaceae\n",
      "Call to tree_of_life/mrca failed as all ids were pruned\n",
      "Rivulariaceae\n",
      "Call to tree_of_life/mrca failed as all ids were pruned\n",
      "Myxotrichaceae\n",
      "Call to tree_of_life/mrca failed as all ids were pruned\n",
      "Pseudanabaenaceae\n",
      "Call to tree_of_life/mrca failed as all ids were pruned\n",
      "Pseudoperisporiaceae\n",
      "Call to tree_of_life/mrca failed as all ids were pruned\n",
      "Labilitrichaceae\n",
      "Call to tree_of_life/mrca failed as all ids were pruned\n",
      "Tetrahymenidae\n",
      "Microcystaceae\n",
      "Call to tree_of_life/mrca failed as all ids were pruned\n",
      "Hemiaulaceae\n",
      "Chelatococcaceae\n",
      "Call to tree_of_life/mrca failed as all ids were pruned\n",
      "Nitrosopumilaceae\n",
      "Call to tree_of_life/mrca failed as all ids were pruned\n",
      "Septobasidiaceae\n",
      "Call to tree_of_life/mrca failed as all ids were pruned\n",
      "Malasseziaceae\n",
      "Call to tree_of_life/mrca failed as all ids were pruned\n",
      "Clostridiales Family XIII. Incertae Sedis\n",
      "Call to tree_of_life/mrca failed as all ids were pruned\n",
      "Pseudeurotiaceae\n",
      "Call to tree_of_life/mrca failed as all ids were pruned\n",
      "Rep1\n"
     ]
    }
   ],
   "source": [
    "fam_mrca = {}\n",
    "for fam in spp_reps:\n",
    "    ott_ids = set([spp_ids[spp] for spp in spp_reps[fam]])\n",
    "    if None in ott_ids:\n",
    "        ott_ids.remove(None)\n",
    "    if len(ott_ids) < 1:\n",
    "        print(fam)\n",
    "        fam_mrca[fam] = None\n",
    "    else:\n",
    "        ret = 0\n",
    "        while ret == 0:\n",
    "            assert(ott_ids)\n",
    "            call_record = OT.ws.tree_of_life_mrca(ott_ids=list(ott_ids))\n",
    "            if 'unknown' in call_record.response_dict:\n",
    "                for key in call_record.response_dict['unknown']:\n",
    "                    ott_ids.remove(int(key.strip('ott')))\n",
    "            elif 'mrca' in call_record.response_dict:\n",
    "                ret = 1\n",
    "                fam_mrca[fam] = call_record.response_dict['mrca']['node_id']              \n",
    "            if len(ott_ids) < 1:\n",
    "                print(fam)\n",
    "                msgtemplate = 'Call to tree_of_life/mrca failed as all ids were pruned'\n",
    "                print(msgtemplate)\n",
    "                fam_mrca[fam] = None\n",
    "                ret = 1\n",
    "    "
   ]
  },
  {
   "cell_type": "markdown",
   "metadata": {},
   "source": [
    "## Adding in MRCAs  \n",
    "There are some families that we don't have records of any of the taxa listed."
   ]
  },
  {
   "cell_type": "code",
   "execution_count": 86,
   "metadata": {},
   "outputs": [],
   "source": [
    "fam_mrca_ids = [fam_mrca[fam] for fam in fam_mrca]"
   ]
  },
  {
   "cell_type": "code",
   "execution_count": 87,
   "metadata": {},
   "outputs": [],
   "source": [
    "fam_ott_ids = ['ott{}'.format(idn) for idn in fam_ott_ids]"
   ]
  },
  {
   "cell_type": "code",
   "execution_count": 88,
   "metadata": {},
   "outputs": [],
   "source": [
    "ids_plus = fam_mrca_ids + fam_ott_ids\n",
    "ids_plus = set(ids_plus)\n",
    "ids_plus.remove(None)"
   ]
  },
  {
   "cell_type": "code",
   "execution_count": 90,
   "metadata": {},
   "outputs": [],
   "source": [
    "output_plus = OT.synth_induced_tree(node_ids = list(ids_plus), label_format='name_and_id')"
   ]
  },
  {
   "cell_type": "code",
   "execution_count": 91,
   "metadata": {},
   "outputs": [
    {
     "name": "stdout",
     "output_type": "stream",
     "text": [
      "dict_keys(['broken', 'newick', 'supporting_studies'])\n"
     ]
    }
   ],
   "source": [
    "tmp_tree = copy.deepcopy(output_plus.tree)"
   ]
  },
  {
   "cell_type": "code",
   "execution_count": 92,
   "metadata": {},
   "outputs": [],
   "source": [
    "remove_problem_characters(tmp_tree)"
   ]
  },
  {
   "cell_type": "code",
   "execution_count": 93,
   "metadata": {},
   "outputs": [],
   "source": [
    "treefile = \"FAM_cal_eDNA_addedFams.tre\"\n",
    "tmp_tree.write(path = treefile, schema = \"newick\")"
   ]
  },
  {
   "cell_type": "code",
   "execution_count": 94,
   "metadata": {},
   "outputs": [
    {
     "name": "stdout",
     "output_type": "stream",
     "text": [
      "dict_keys(['broken', 'newick', 'supporting_studies'])\n"
     ]
    }
   ],
   "source": [
    "synth_leaf_ott_ids = set()\n",
    "synth_node_ids = set()\n",
    "for node in outputplus.tree:\n",
    "    if node.taxon:\n",
    "        synth_leaf_ott_ids.add(node.taxon.label.split()[-1])\n",
    "    if node.label:\n",
    "        synth_node_ids.add(node.label.split()[-1])\n"
   ]
  },
  {
   "cell_type": "code",
   "execution_count": 95,
   "metadata": {},
   "outputs": [],
   "source": [
    "outfi = open('fam_info_synth_plus.csv','w')\n",
    "outfi.write(\"fam_name, ott_id, broken_taxon, mrca_of_descendents, in_synth_tree, selected_descendents\\n\")\n",
    "for fam_name in fam_dict:\n",
    "    ott_id = fam_dict[fam_name]\n",
    "    brok = \"-\"\n",
    "    mrca = \"-\"\n",
    "    in_synth_tree = 'False'\n",
    "    selected_descendents = \"-\"\n",
    "    if ott_id != 'None':\n",
    "        ott_str = \"ott{}\".format(ott_id)\n",
    "        if ott_str in broken:\n",
    "            brok = \"T\"\n",
    "            mrca = broken[ott_str].strip()\n",
    "            if mrca in synth_leaf_ott_ids:\n",
    "                in_synth_tree = 'Leaf'\n",
    "            elif mrca in synth_node_ids:\n",
    "                in_synth_tree = 'Node'\n",
    "        if fam_name in fam_mrca:\n",
    "            brok = \"missing\"\n",
    "            mrca = fam_mrca[fam_name]\n",
    "            if mrca in synth_leaf_ott_ids:\n",
    "                in_synth_tree = 'Leaf'\n",
    "            elif mrca in synth_node_ids:\n",
    "                in_synth_tree = 'Node'\n",
    "            selected_descendents = \";\".join(list(set(spp_reps[fam_name])))\n",
    "        if ott_str in synth_leaf_ott_ids:\n",
    "            in_synth_tree = 'Leaf'\n",
    "        elif ott_str in synth_node_ids:\n",
    "            in_synth_tree = 'Node'\n",
    "            \n",
    "    outfi.write(\"{},{},{},{},{},{}\\n\".format(fam_name, ott_id, brok, mrca, in_synth_tree,selected_descendents))\n",
    "outfi.close()"
   ]
  },
  {
   "cell_type": "code",
   "execution_count": 96,
   "metadata": {},
   "outputs": [],
   "source": [
    "# Don't forget to cite your friendly phylogeneticists!\n",
    "studies = output_plus.response_dict['supporting_studies']\n",
    "cites = OT.get_citations(studies) #this can be a bit slow\n",
    "fi = open(\"famcites.txt\",\"w\")\n",
    "fi.write(cites)\n",
    "fi.close()"
   ]
  },
  {
   "cell_type": "code",
   "execution_count": 97,
   "metadata": {},
   "outputs": [
    {
     "data": {
      "text/plain": [
       "208"
      ]
     },
     "execution_count": 97,
     "metadata": {},
     "output_type": "execute_result"
    }
   ],
   "source": [
    "len(studies)"
   ]
  },
  {
   "cell_type": "code",
   "execution_count": null,
   "metadata": {},
   "outputs": [],
   "source": []
  }
 ],
 "metadata": {
  "kernelspec": {
   "display_name": "Python 3",
   "language": "python",
   "name": "python3"
  },
  "language_info": {
   "codemirror_mode": {
    "name": "ipython",
    "version": 3
   },
   "file_extension": ".py",
   "mimetype": "text/x-python",
   "name": "python",
   "nbconvert_exporter": "python",
   "pygments_lexer": "ipython3",
   "version": "3.7.3"
  }
 },
 "nbformat": 4,
 "nbformat_minor": 2
}
