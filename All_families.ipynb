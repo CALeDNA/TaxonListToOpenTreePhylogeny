{
 "cells": [
  {
   "cell_type": "code",
   "execution_count": 1,
   "metadata": {},
   "outputs": [],
   "source": [
    "from opentree import OT\n",
    "import os"
   ]
  },
  {
   "cell_type": "code",
   "execution_count": 2,
   "metadata": {},
   "outputs": [
    {
     "name": "stdout",
     "output_type": "stream",
     "text": [
      "forwards.tsv  README.html  synonyms.tsv  taxonomy.tsv  version.txt\r\n"
     ]
    }
   ],
   "source": [
    "!ls ../ott3.2"
   ]
  },
  {
   "cell_type": "code",
   "execution_count": 3,
   "metadata": {},
   "outputs": [],
   "source": [
    "taxonomy_file = \"../ott3.2/taxonomy.tsv\"\n",
    "assert os.path.exists(taxonomy_file)"
   ]
  },
  {
   "cell_type": "code",
   "execution_count": 4,
   "metadata": {},
   "outputs": [],
   "source": [
    "fam_dict = {}\n",
    "for lin in open(taxonomy_file):\n",
    "        lii=lin.split('\\t|\\t')\n",
    "        if len(lii[2].split(' ')) > 1:\n",
    "            pass\n",
    "        elif lii[2].endswith(\"aceae\"):\n",
    "            fam_dict[lii[2]]=lii\n",
    "        elif lii[2].endswith(\"idae\"):\n",
    "            fam_dict[lii[2]]=lii"
   ]
  },
  {
   "cell_type": "code",
   "execution_count": 5,
   "metadata": {},
   "outputs": [
    {
     "data": {
      "text/plain": [
       "21933"
      ]
     },
     "execution_count": 5,
     "metadata": {},
     "output_type": "execute_result"
    }
   ],
   "source": [
    "len(fam_dict)"
   ]
  },
  {
   "cell_type": "code",
   "execution_count": 8,
   "metadata": {},
   "outputs": [],
   "source": [
    "maybe_fams = set()\n",
    "for fam in fam_dict:\n",
    "    if fam_dict[fam][3] == 'family':\n",
    "        pass\n",
    "    else:\n",
    "        maybe_fams.add(fam)"
   ]
  },
  {
   "cell_type": "code",
   "execution_count": 9,
   "metadata": {},
   "outputs": [
    {
     "data": {
      "text/plain": [
       "163"
      ]
     },
     "execution_count": 9,
     "metadata": {},
     "output_type": "execute_result"
    }
   ],
   "source": [
    "len(maybe_fams)"
   ]
  },
  {
   "cell_type": "code",
   "execution_count": 28,
   "metadata": {},
   "outputs": [],
   "source": [
    "#fams_in_tree = {}\n",
    "for fam in fam_dict:\n",
    "    if fam not in fams_in_tree:\n",
    "        ott_id = fam_dict[fam][0]\n",
    "        fams_in_tree[fam] = OT.synth_node_info(ott_id = ott_id)"
   ]
  },
  {
   "cell_type": "code",
   "execution_count": 27,
   "metadata": {},
   "outputs": [
    {
     "data": {
      "text/plain": [
       "{'node_id': 'ott5252602',\n",
       " 'num_tips': 0,\n",
       " 'query': 'ott5252602',\n",
       " 'source_id_map': {'ott3.2draft9': {'taxonomy': 'ott3.2draft9'}},\n",
       " 'supported_by': {'ott3.2draft9': 'ott5252602'},\n",
       " 'synth_id': 'opentree12.3',\n",
       " 'taxon': {'name': 'Pasteurellaceae',\n",
       "  'ott_id': 5252602,\n",
       "  'rank': 'no rank - terminal',\n",
       "  'tax_sources': ['silva:GM884484'],\n",
       "  'unique_name': 'Pasteurellaceae (silva:GM884484)'}}"
      ]
     },
     "execution_count": 27,
     "metadata": {},
     "output_type": "execute_result"
    }
   ],
   "source": [
    "for fam in fams_in_tree['Pasteurellaceae'].response_dict"
   ]
  },
  {
   "cell_type": "code",
   "execution_count": 30,
   "metadata": {},
   "outputs": [],
   "source": [
    "node_ids = {}\n",
    "not_in_tree = set()\n",
    "for fam in fams_in_tree:\n",
    "    nid = fams_in_tree[fam].response_dict.get('node_id')\n",
    "    if nid:\n",
    "        if nid not in node_ids:\n",
    "            node_ids[nid] = set()\n",
    "        node_ids[nid].add(fam)\n",
    "    else:\n",
    "        not_in_tree.add(fam)\n",
    "        \n",
    "    \n",
    "    "
   ]
  },
  {
   "cell_type": "code",
   "execution_count": 31,
   "metadata": {},
   "outputs": [
    {
     "data": {
      "text/plain": [
       "11829"
      ]
     },
     "execution_count": 31,
     "metadata": {},
     "output_type": "execute_result"
    }
   ],
   "source": [
    "len(not_in_tree)"
   ]
  },
  {
   "cell_type": "code",
   "execution_count": 33,
   "metadata": {},
   "outputs": [
    {
     "data": {
      "text/plain": [
       "9979"
      ]
     },
     "execution_count": 33,
     "metadata": {},
     "output_type": "execute_result"
    }
   ],
   "source": [
    "len(node_ids)"
   ]
  },
  {
   "cell_type": "code",
   "execution_count": 34,
   "metadata": {},
   "outputs": [
    {
     "data": {
      "text/plain": [
       "['Xylorictidae',\n",
       " 'Heliscomyidae',\n",
       " 'Burmacoccidae',\n",
       " 'Heterolimulidae',\n",
       " 'Amotapidae',\n",
       " 'Trochiliopsidae',\n",
       " 'Neorthroblattinidae',\n",
       " 'Opisthonectidae',\n",
       " 'Erbinaceae',\n",
       " 'Pseudosculdidae']"
      ]
     },
     "execution_count": 34,
     "metadata": {},
     "output_type": "execute_result"
    }
   ],
   "source": [
    "list(not_in_tree)[:10]"
   ]
  },
  {
   "cell_type": "code",
   "execution_count": 36,
   "metadata": {},
   "outputs": [
    {
     "data": {
      "text/plain": [
       "{'message': \"[/v3/tree_of_life/node_info] Error: node_id 'ott5020170' was not found!\"}"
      ]
     },
     "execution_count": 36,
     "metadata": {},
     "output_type": "execute_result"
    }
   ],
   "source": [
    "fams_in_tree['Neorthroblattinidae'].response_dict"
   ]
  },
  {
   "cell_type": "code",
   "execution_count": 37,
   "metadata": {},
   "outputs": [],
   "source": [
    "for fam in not_in_tree:\n",
    "    assert fams_in_tree[fam].response_dict['message'].endswith('not found!')"
   ]
  },
  {
   "cell_type": "code",
   "execution_count": 46,
   "metadata": {},
   "outputs": [],
   "source": [
    "fi = open(\"families_not_in_tree.csv\",'w')\n",
    "fi.write('name, ottid, sources, flags\\n')\n",
    "for fam in not_in_tree:\n",
    "    fi.write(\"{}, {}, {}, {}\\n\".format(fam,fam_dict[fam][0],fam_dict[fam][-4],fam_dict[fam][-2]))\n",
    "\n",
    "fi.close()"
   ]
  },
  {
   "cell_type": "code",
   "execution_count": 41,
   "metadata": {},
   "outputs": [
    {
     "data": {
      "text/plain": [
       "['6149357',\n",
       " '639642',\n",
       " 'Mahajangasuchidae',\n",
       " 'family',\n",
       " 'gbif:8626860',\n",
       " '',\n",
       " 'unplaced,major_rank_conflict,barren',\n",
       " '\\n']"
      ]
     },
     "execution_count": 41,
     "metadata": {},
     "output_type": "execute_result"
    }
   ],
   "source": [
    "fam_dict[fam]"
   ]
  },
  {
   "cell_type": "code",
   "execution_count": null,
   "metadata": {},
   "outputs": [],
   "source": []
  }
 ],
 "metadata": {
  "kernelspec": {
   "display_name": "opentree",
   "language": "python",
   "name": "opentree"
  },
  "language_info": {
   "codemirror_mode": {
    "name": "ipython",
    "version": 3
   },
   "file_extension": ".py",
   "mimetype": "text/x-python",
   "name": "python",
   "nbconvert_exporter": "python",
   "pygments_lexer": "ipython3",
   "version": "3.7.3"
  }
 },
 "nbformat": 4,
 "nbformat_minor": 2
}
